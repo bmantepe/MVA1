{
 "cells": [
  {
   "cell_type": "code",
   "execution_count": 1,
   "metadata": {},
   "outputs": [],
   "source": [
    "import pandas as pd\n",
    "import numpy as np"
   ]
  },
  {
   "cell_type": "markdown",
   "metadata": {},
   "source": [
    "# Read dataset"
   ]
  },
  {
   "cell_type": "code",
   "execution_count": 2,
   "metadata": {},
   "outputs": [],
   "source": [
    "path = \"~/Dropbox/Mi Mac (MacBook Air de Biel)/Desktop/1. Master/1. Assignatures/MVA/A1. Assignment 1/\"\n",
    "data = pd.read_csv(path + \"euroleague_23_24.csv\", delimiter=';')"
   ]
  },
  {
   "cell_type": "markdown",
   "metadata": {},
   "source": [
    "# 1. First do the exploratory data analysis.\n",
    "\n",
    "\n",
    "\n",
    "## a) Discard the variable “No” from the data set. (1p)"
   ]
  },
  {
   "cell_type": "code",
   "execution_count": 3,
   "metadata": {},
   "outputs": [],
   "source": [
    "data = data.drop(columns=\"No\")"
   ]
  },
  {
   "cell_type": "markdown",
   "metadata": {},
   "source": [
    "## b) Split variable “Min” using strsplit() function. Give the name “aux” to the output. The first element of each row will show the minutes that the player played in total. (1p)\n"
   ]
  },
  {
   "cell_type": "code",
   "execution_count": 4,
   "metadata": {},
   "outputs": [],
   "source": [
    "aux = data[\"Min\"].str.split(\":\", n = 2, expand = True)\n",
    "aux = aux.astype({0: 'int64'})\n",
    "aux = aux.astype({1: 'int64'})\n",
    "\n",
    "data[\"Min\"] = aux[0]*60 + aux[1]"
   ]
  },
  {
   "cell_type": "markdown",
   "metadata": {},
   "source": [
    "## c) Add a numerical variable to the data set named “Min 2” which shows on average how many minutes each player played in the game. (2p)\n"
   ]
  },
  {
   "cell_type": "code",
   "execution_count": 5,
   "metadata": {},
   "outputs": [],
   "source": [
    "data[\"Min2\"] = data[\"Min\"]/data[\"GP\"]"
   ]
  },
  {
   "cell_type": "markdown",
   "metadata": {},
   "source": [
    "## d) Check the structure of the data and assign correct type to each variable considering whether it is a categorical or numerical variable. (2p)\n"
   ]
  },
  {
   "cell_type": "code",
   "execution_count": null,
   "metadata": {},
   "outputs": [],
   "source": []
  },
  {
   "cell_type": "code",
   "execution_count": 6,
   "metadata": {},
   "outputs": [
    {
     "name": "stdout",
     "output_type": "stream",
     "text": [
      "<class 'pandas.core.frame.DataFrame'>\n",
      "RangeIndex: 64 entries, 0 to 63\n",
      "Data columns (total 22 columns):\n",
      " #   Column    Non-Null Count  Dtype   \n",
      "---  ------    --------------  -----   \n",
      " 0   TEAM      64 non-null     category\n",
      " 1   PLAYER    64 non-null     category\n",
      " 2   POSITION  64 non-null     category\n",
      " 3   GP        64 non-null     int64   \n",
      " 4   GS        64 non-null     int64   \n",
      " 5   Min       64 non-null     int64   \n",
      " 6   PTS       64 non-null     float64 \n",
      " 7   2P%       64 non-null     float64 \n",
      " 8   3P%       64 non-null     float64 \n",
      " 9   FT%       64 non-null     float64 \n",
      " 10  OR        64 non-null     float64 \n",
      " 11  DR        64 non-null     float64 \n",
      " 12  TR        64 non-null     float64 \n",
      " 13  AST       64 non-null     float64 \n",
      " 14  STL       64 non-null     float64 \n",
      " 15  TO        64 non-null     float64 \n",
      " 16  BLK       64 non-null     float64 \n",
      " 17  BLKA      64 non-null     float64 \n",
      " 18  FC        64 non-null     float64 \n",
      " 19  FD        64 non-null     float64 \n",
      " 20  PIR       64 non-null     float64 \n",
      " 21  Min2      64 non-null     float64 \n",
      "dtypes: category(3), float64(16), int64(3)\n",
      "memory usage: 12.7 KB\n"
     ]
    }
   ],
   "source": [
    "data = data.astype({'PTS': 'string', '2P%': 'string', '3P%': 'string', 'FT%': 'string', 'OR': 'string', 'DR': 'string', 'TR': 'string', 'AST': 'string', 'STL': 'string', 'BLK': 'string', 'TO': 'string', 'BLKA': 'string', 'FC': 'string', 'FD': 'string', 'PIR': 'string'})\n",
    "\n",
    "data[\"PTS\"] = data[\"PTS\"].str.replace(',', '.').astype(float)\n",
    "data[\"2P%\"] = data[\"2P%\"].str.replace(',', '.').astype(float)\n",
    "data[\"3P%\"] = data[\"3P%\"].str.replace(',', '.').astype(float)\n",
    "data[\"FT%\"] = data[\"FT%\"].str.replace(',', '.').astype(float)\n",
    "data[\"OR\"] = data[\"OR\"].str.replace(',', '.').astype(float)\n",
    "data[\"DR\"] = data[\"DR\"].str.replace(',', '.').astype(float)\n",
    "data[\"TR\"] = data[\"TR\"].str.replace(',', '.').astype(float)\n",
    "data[\"AST\"] = data[\"AST\"].str.replace(',', '.').astype(float)\n",
    "data[\"STL\"] = data[\"STL\"].str.replace(',', '.').astype(float)\n",
    "data[\"TO\"] = data[\"TO\"].str.replace(',', '.').astype(float)\n",
    "data[\"BLK\"] = data[\"BLK\"].str.replace(',', '.').astype(float)\n",
    "data[\"BLKA\"] = data[\"BLKA\"].str.replace(',', '.').astype(float)\n",
    "data[\"FC\"] = data[\"FC\"].str.replace(',', '.').astype(float)\n",
    "data[\"FD\"] = data[\"FD\"].str.replace(',', '.').astype(float)\n",
    "data[\"PIR\"] = data[\"PIR\"].str.replace(',', '.').astype(float)\n",
    "\n",
    "data = data.astype({'TEAM ': 'category', 'PLAYER': 'category', 'POSITION': 'category'})\n",
    "data.info()"
   ]
  },
  {
   "cell_type": "markdown",
   "metadata": {},
   "source": [
    " # 2. Application of PCA\n"
   ]
  },
  {
   "cell_type": "markdown",
   "metadata": {},
   "source": [
    "## a) Apply PCA on all the scaled numerical variables in the data set by using PCA() function in FactoMineR package. Treat the categorical variables and the variable “PIR” as suplemantary variables using arguments quali.sup and quanti.sup correctly. (3p)\n"
   ]
  },
  {
   "cell_type": "code",
   "execution_count": 7,
   "metadata": {},
   "outputs": [],
   "source": [
    "from sklearn.decomposition import PCA\n",
    "from sklearn.preprocessing import StandardScaler\n"
   ]
  },
  {
   "cell_type": "code",
   "execution_count": 8,
   "metadata": {},
   "outputs": [],
   "source": [
    "data_pca = data.drop(columns=data.select_dtypes(include=['category']).columns)\n",
    "data_pca = data_pca.drop(columns=\"Min2\")\n",
    "\n",
    "scaler = StandardScaler()\n",
    "data_pca = scaler.fit_transform(data_pca)\n",
    "\n",
    "pca = PCA(n_components=10)\n",
    "principalComponents = pca.fit_transform(data_pca)"
   ]
  },
  {
   "cell_type": "markdown",
   "metadata": {},
   "source": [
    "## b) How many components should be extracted? Decide on the number of components considering eigenvalues. (3p)\n"
   ]
  },
  {
   "cell_type": "code",
   "execution_count": 9,
   "metadata": {},
   "outputs": [],
   "source": [
    "import matplotlib.pyplot as plt"
   ]
  },
  {
   "cell_type": "code",
   "execution_count": 10,
   "metadata": {},
   "outputs": [
    {
     "data": {
      "image/png": "[encoded data removed]",
      "text/plain": [
       "<Figure size 640x480 with 1 Axes>"
      ]
     },
     "metadata": {},
     "output_type": "display_data"
    }
   ],
   "source": [
    "explained_variance_ratio_cumsum = np.cumsum(pca.explained_variance_ratio_)\n",
    "plt.bar(range(len(explained_variance_ratio_cumsum)), explained_variance_ratio_cumsum)\n",
    "plt.xlabel('number of components')\n",
    "plt.ylabel('cumulative explained variance')\n",
    "plt.axhline(y=0.8, color='r', linestyle='--')\n",
    "plt.show()"
   ]
  },
  {
   "cell_type": "code",
   "execution_count": 11,
   "metadata": {},
   "outputs": [
    {
     "data": {
      "image/png": "[encoded data removed]",
      "text/plain": [
       "<Figure size 640x480 with 1 Axes>"
      ]
     },
     "metadata": {},
     "output_type": "display_data"
    }
   ],
   "source": [
    "explained_variance_ratio = pca.explained_variance_ratio_\n",
    "\n",
    "plt.bar(range(1,len(explained_variance_ratio)+1), explained_variance_ratio, alpha=0.5, align='center', label='Individual explained variance')\n",
    "\n",
    "plt.plot(range(1,len(explained_variance_ratio_cumsum)+1), explained_variance_ratio_cumsum, label='Cumulative explained variance', color='black')\n",
    "\n",
    "plt.scatter(range(1,len(explained_variance_ratio_cumsum)+1), explained_variance_ratio_cumsum, color='black')\n",
    "\n",
    "plt.axhline(y=0.8, color='red', linestyle='--', label='80% explained variance')\n",
    "\n",
    "plt.title('Explained Variance by PCA Components')\n",
    "plt.xlabel('Number of Components')\n",
    "plt.ylabel('Explained Variance Ratio')\n",
    "\n",
    "#  llegenda\n",
    "plt.legend(loc='best')\n",
    "\n",
    "plt.show()\n",
    "\n"
   ]
  },
  {
   "cell_type": "markdown",
   "metadata": {},
   "source": [
    "## c) Interpret the loadings/correlations of variables at each dimension (3p)."
   ]
  },
  {
   "cell_type": "code",
   "execution_count": 12,
   "metadata": {},
   "outputs": [
    {
     "name": "stdout",
     "output_type": "stream",
     "text": [
      "           PC1       PC2       PC3       PC4       PC5       PC6       PC7  \\\n",
      "GP    0.267321 -0.077794  0.221818  0.041532 -0.128416  0.179755 -0.228494   \n",
      "GS    0.245411 -0.058356 -0.071797 -0.007362 -0.319058 -0.360421 -0.189259   \n",
      "Min   0.306151 -0.093223  0.027106  0.057574 -0.063919 -0.157640 -0.095938   \n",
      "PTS   0.291880 -0.100651 -0.091654  0.141935  0.189948 -0.065960  0.088385   \n",
      "2P%   0.143113  0.214362  0.572526 -0.111937  0.227343 -0.171370  0.590744   \n",
      "3P%   0.029152 -0.305200  0.064662  0.827211  0.012696  0.261923  0.228593   \n",
      "FT%   0.189193 -0.079824  0.577275 -0.025389  0.279305 -0.035413 -0.324339   \n",
      "OR    0.206838  0.430283 -0.108220  0.102478 -0.061581  0.048695 -0.023016   \n",
      "DR    0.279718  0.169162 -0.057164  0.179140 -0.046543 -0.231998 -0.113708   \n",
      "TR    0.271256  0.276597 -0.077118  0.163463 -0.059696 -0.140588 -0.089790   \n",
      "AST   0.191971 -0.365740 -0.058851 -0.256719 -0.317381  0.151445  0.358335   \n",
      "STL   0.230311 -0.263054  0.055147 -0.051988 -0.265889 -0.156231  0.047128   \n",
      "TO    0.261141 -0.211671 -0.149279 -0.264222  0.073056  0.260279  0.166449   \n",
      "BLK   0.114125  0.506300 -0.062381  0.032355 -0.144327  0.474418  0.138201   \n",
      "BLKA  0.188626 -0.145615 -0.344993 -0.030735  0.687203  0.045706 -0.119315   \n",
      "FC    0.255990 -0.030482  0.194903 -0.130121 -0.073015  0.525717 -0.320762   \n",
      "FD    0.271986  0.083823 -0.204851 -0.198144  0.163990  0.009889  0.143679   \n",
      "PIR   0.302422  0.052154 -0.136801  0.106721 -0.009992 -0.121132  0.227613   \n",
      "\n",
      "           PC8       PC9      PC10  \n",
      "GP    0.205142  0.222471  0.204206  \n",
      "GS    0.634340 -0.172981 -0.170087  \n",
      "Min   0.001232 -0.015795  0.013723  \n",
      "PTS   0.111743  0.283505  0.045110  \n",
      "2P%   0.280621 -0.181714  0.081296  \n",
      "3P%   0.064633 -0.005845 -0.023333  \n",
      "FT%  -0.355379  0.066436 -0.287963  \n",
      "OR   -0.131670  0.134254  0.008534  \n",
      "DR   -0.211307 -0.215245 -0.219080  \n",
      "TR   -0.203628 -0.088909 -0.149396  \n",
      "AST  -0.175835 -0.126764 -0.393267  \n",
      "STL  -0.368458 -0.314435  0.683224  \n",
      "TO   -0.038116  0.035180 -0.258549  \n",
      "BLK   0.001522 -0.323267  0.032377  \n",
      "BLKA  0.108639 -0.466629  0.080297  \n",
      "FC    0.209433 -0.047701  0.099337  \n",
      "FD    0.007237  0.491490  0.244006  \n",
      "PIR  -0.080737  0.219029 -0.038444  \n"
     ]
    }
   ],
   "source": [
    "loadings = pd.DataFrame(pca.components_.T, columns=['PC1', 'PC2','PC3','PC4','PC5','PC6','PC7','PC8','PC9','PC10'], \n",
    "                        index=data.drop(columns=data.select_dtypes(include=['category']).columns).drop(columns=\"Min2\").columns)\n",
    "print(loadings)"
   ]
  },
  {
   "cell_type": "markdown",
   "metadata": {},
   "source": [
    "## d) Use plot.PCA() function to show correlations between variables and the extracted dimensions. (For the variables you should use the argument choix = “var”). Plot all the extracted dimensions changing argument “axes”.(3p)\n"
   ]
  },
  {
   "cell_type": "code",
   "execution_count": 13,
   "metadata": {},
   "outputs": [],
   "source": [
    "import plotly.express as px\n"
   ]
  },
  {
   "cell_type": "code",
   "execution_count": 20,
   "metadata": {},
   "outputs": [
    {
     "data": {
      "application/vnd.plotly.v1+json": {
       "config": {
        "plotlyServerURL": "https://plot.ly"
       },
       "data": [
        {
         "diagonal": {
          "visible": false
         },
         "dimensions": [
          {
           "axis": {
            "matches": true
           },
           "label": "0",
           "values": {
            "bdata": "JAc0PgPdBsCrC4oqX8nxv3xIR2pP+QPAKqpDkSYQE8B8bkJLW3j/v0AF9oj4SBBA97KiMrDGFcBbIXoCZZXzv1BoDWcNlAZAHzxvpkrPEkBsc6F5L9QbQKBQwRWNpfq/wxW8O0AQ/z9zG/XzrYGJv/t+dYgc5w9Adok+Kw43D8A=",
            "dtype": "f8"
           }
          },
          {
           "axis": {
            "matches": true
           },
           "label": "1",
           "values": {
            "bdata": "jcIW5ZbB0j+3NWNWP5nxv7exYjUPOsC/dKGAseud8r+HDn1jvTP0P7xFIg4cHgPAlPwhO+AG+b8G9gcVRRO8v9KCC4zVdADA12rntyNEB8BbS8MKO70FQHew5zwwXQBAHUIhQ8dZ7L+X4Ami+g7wP3bUVlM2Lfg/F2MeP+m44L8=",
            "dtype": "f8"
           }
          },
          {
           "axis": {
            "matches": true
           },
           "label": "2",
           "values": {
            "bdata": "caIPChr8AUBLHCqgklW5P6R3Qx8LFvY/a9JxWHIx+b/xX+vjf7nrP9/fJ0x/Zuq/P+2W4xALAcCAfRf4NlLSP5+J5b15jOc/VQ5us3HA+7/lb4FsZcoCwLWOOoAdy8k/BIdPVAwH8z9LP3KLfsDTP+TdEKqYQt2/NMzjQSGX5b8=",
            "dtype": "f8"
           }
          },
          {
           "axis": {
            "matches": true
           },
           "label": "3",
           "values": {
            "bdata": "Wu1jsNJozr/Zigj5Wj2/P128+2I0+9y/2oRNDpF//z8VlSTrwD7tv8YB5Slt/+a/BULgFu1RCkA0758KBW/yP/Yghkm7vsW/JhTWobFZ5r9Ujnk3rbbzvx7oePCmIPa/NXqSlAW+2T9hYZ3RCvnQPyfkQ/zhVvU/wQd5rSWG/j8=",
            "dtype": "f8"
           }
          }
         ],
         "hovertemplate": "color=PANATHINAIKOS<br>%{xaxis.title.text}=%{x}<br>%{yaxis.title.text}=%{y}<extra></extra>",
         "legendgroup": "PANATHINAIKOS",
         "marker": {
          "color": "#636efa",
          "symbol": "circle"
         },
         "name": "PANATHINAIKOS",
         "showlegend": true,
         "type": "splom"
        },
        {
         "diagonal": {
          "visible": false
         },
         "dimensions": [
          {
           "axis": {
            "matches": true
           },
           "label": "0",
           "values": {
            "bdata": "O8t/f6TZ6L+Ze2zJA5YVwFf+KtX6MPa/epJhiHh+/L+3Ovm5ffoTQIxVjQPcDA7AYFRZEyODB0Bj4MsYJrsFwHtc0d0/Ot6/OC9gisaZ9j/wieL58YQEQDouSr+QNxNAjAY5Ffbh6r8WkAh3XGsDQIGWG+ss8fS/4DJXA+3eBEA=",
            "dtype": "f8"
           }
          },
          {
           "axis": {
            "matches": true
           },
           "label": "1",
           "values": {
            "bdata": "4Xl89bAQ4L+eOKKymGyiP+sqohiHHea/38KHLJ/+1r8QAjjvpLUFwPgWzbwuW+w/cUQdYrAT2b/Bz7AAtPzFvyqh6OcaIQDAi3CdXpxUur+bBcMaRvAPQA0tkPKrqBBAR6c2m+NL8r8+IXczzX3mP5LpppP1Q+c/SgbIGj834r8=",
            "dtype": "f8"
           }
          },
          {
           "axis": {
            "matches": true
           },
           "label": "2",
           "values": {
            "bdata": "gbG0/50N8T+YVx/eBKX+vwq5fpIxPvU/2HIsUSKY8D8k7Q9OmAjevywY+GTFSQZAQSLe0tNg0T/XlsHxvbDpvwVEv1gowuw/PqhmOQDQ6D9GXgvND1HBP4TGE8FVnua/AwcpSIDg4z9jyrdbmiDYP2fMd0qdXuY/bqa6hOL85L8=",
            "dtype": "f8"
           }
          },
          {
           "axis": {
            "matches": true
           },
           "label": "3",
           "values": {
            "bdata": "3EXuHQ6kxT/LD+ijUzr3vyOlXsZETNI/eG9ClTYI6D9BaSD8XSH8v5D6yV6h4f6/muIfMwVh9T/TcGjcvrbzv723mP9ymOy/ZLsTF0Fl1z/853aUrHz3P02ryRXsw+W/TEn9VLs1zb/DfWqS7772PzxHlH8kAco/8yC7s+z52j8=",
            "dtype": "f8"
           }
          }
         ],
         "hovertemplate": "color=REAL MADRID<br>%{xaxis.title.text}=%{x}<br>%{yaxis.title.text}=%{y}<extra></extra>",
         "legendgroup": "REAL MADRID",
         "marker": {
          "color": "#EF553B",
          "symbol": "circle"
         },
         "name": "REAL MADRID",
         "showlegend": true,
         "type": "splom"
        },
        {
         "diagonal": {
          "visible": false
         },
         "dimensions": [
          {
           "axis": {
            "matches": true
           },
           "label": "0",
           "values": {
            "bdata": "QpEHAixSDECnle67s0v+P+OGaINfEeY/l4lPEiLq/D+0ewb20psKwLOpNMIMb+6/50XkK4L4FMAmTGwzmoUHQMnqV4FluQFAnpd58PoA/L9ubtAquD0QQHOs9k3iXdU/Qo2zJAXcAEBoFJEgTMjyv/+ZciePgxjAoOak/Y2gr78=",
            "dtype": "f8"
           }
          },
          {
           "axis": {
            "matches": true
           },
           "label": "1",
           "values": {
            "bdata": "4rIeb/A3BMAPaOaZQc8CwBWsGB4nGe8/CSDxPYAv/L9Rf9/PIkC6v8Br0H1bU/G//oJ/NlxE9T86Bd7b+50KQNCDLaQG2OW/fVhHtuSWsj9NHF8AWk3Hv/SFp8ikgOw/dymHY3j/DEAXv1XXWQXxP/sSTlF/N9Q/LnlSMfXL7L8=",
            "dtype": "f8"
           }
          },
          {
           "axis": {
            "matches": true
           },
           "label": "2",
           "values": {
            "bdata": "49xq0YjHtj+OFKqtWLfOv5GFU4qb48S/4hCDmh7b6j/umK+E5iqfv9Zy/FcQeOQ/ZZVaNG+K4j971Tuc5dfgv+jgRcfJ8rO/kigd94NRuL/2DR9Q82XYvwulwaYeIuK/sycJTENt5L+7/L2jOY22v/AIXsB1NwLAj5C1dmrU3D8=",
            "dtype": "f8"
           }
          },
          {
           "axis": {
            "matches": true
           },
           "label": "3",
           "values": {
            "bdata": "zxFuimxn8b9yBbhInUjYv6u9WxmXr+4/fOqxQBJtqD+5Ae787g3wv/BlWH3OGt+/OUSoo7Nd978/U/XqTP3wv4Vhra+nms0/sZqCT3tzy7+X9rG6L7L3PxeluSq3AMs/JKlfICEd3L9SC2Z15Se4P+rlRQhnke6/guP3zkwbxL8=",
            "dtype": "f8"
           }
          }
         ],
         "hovertemplate": "color=OLYMPIAKOS<br>%{xaxis.title.text}=%{x}<br>%{yaxis.title.text}=%{y}<extra></extra>",
         "legendgroup": "OLYMPIAKOS",
         "marker": {
          "color": "#00cc96",
          "symbol": "circle"
         },
         "name": "OLYMPIAKOS",
         "showlegend": true,
         "type": "splom"
        },
        {
         "diagonal": {
          "visible": false
         },
         "dimensions": [
          {
           "axis": {
            "matches": true
           },
           "label": "0",
           "values": {
            "bdata": "X4hj1pAyC0Ad+z2vXvgRwDOQc3b67gRA0XVq78jE5L9jqgWfCuzCP0vHRzTF7RTAYhlHMjvcEkCuEyG1TWXKv3avrXpCNee/HMomXoBE5j/cFLJc/U4YwD1D+ourdP0/3ORRvOe9pb/k2sIA0WsLQEjTmxhyFuy/6QBc2neO/b8=",
            "dtype": "f8"
           }
          },
          {
           "axis": {
            "matches": true
           },
           "label": "1",
           "values": {
            "bdata": "8S5jTGIJ9D/72jy0m3q+P9Jstn9szADAa9xrI9KC4D/dFx5T4+v4PzLYDb0eFaW/5Jkrxt1itz8lV6ltTTnlv5rGX9WOSQFA43TZjaYM7D8QOzrwYDfTP30I8nCjBvW//AYdSa4P5b/TcOrdjIb3v0h1RHXxqeu/JzJMohQ32D8=",
            "dtype": "f8"
           }
          },
          {
           "axis": {
            "matches": true
           },
           "label": "2",
           "values": {
            "bdata": "QyUBbG950r9aHWvO8iH8v7aDiD4gEr4/ce98Mfk58j8XPidDtzDyPzNENoj1YfG/2xdWdTUo5b+Mm1xywP/vP8A5WEI7UO4/bZkvqmWV4j/TQNSvJi4CwKpIfloZkOU/bFXf9vJk+r8dujr/cCXrvxBKtBoEmvA/D6dOmq119j8=",
            "dtype": "f8"
           }
          },
          {
           "axis": {
            "matches": true
           },
           "label": "3",
           "values": {
            "bdata": "lms45Lym5b8MfZPW3/PxvwSLdYLx48m/PUWmqHGFxj+xpvmOjOfzP844d8cuBNg/FSCuOuDw4T8LoLDHdGrwP4GGa78pY+U/kft7GpBs5T/ebOhUUELuvx6tBHP8I+C/2WkwYIDF4T+00/NGwsLbv7d67WejmOG/7MqyLxPO3z8=",
            "dtype": "f8"
           }
          }
         ],
         "hovertemplate": "color=FENERBAHCE<br>%{xaxis.title.text}=%{x}<br>%{yaxis.title.text}=%{y}<extra></extra>",
         "legendgroup": "FENERBAHCE",
         "marker": {
          "color": "#ab63fa",
          "symbol": "circle"
         },
         "name": "FENERBAHCE",
         "showlegend": true,
         "type": "splom"
        }
       ],
       "layout": {
        "dragmode": "select",
        "legend": {
         "title": {
          "text": "color"
         },
         "tracegroupgap": 0
        },
        "margin": {
         "t": 60
        },
        "template": {
         "data": {
          "bar": [
           {
            "error_x": {
             "color": "#2a3f5f"
            },
            "error_y": {
             "color": "#2a3f5f"
            },
            "marker": {
             "line": {
              "color": "#E5ECF6",
              "width": 0.5
             },
             "pattern": {
              "fillmode": "overlay",
              "size": 10,
              "solidity": 0.2
             }
            },
            "type": "bar"
           }
          ],
          "barpolar": [
           {
            "marker": {
             "line": {
              "color": "#E5ECF6",
              "width": 0.5
             },
             "pattern": {
              "fillmode": "overlay",
              "size": 10,
              "solidity": 0.2
             }
            },
            "type": "barpolar"
           }
          ],
          "carpet": [
           {
            "aaxis": {
             "endlinecolor": "#2a3f5f",
             "gridcolor": "white",
             "linecolor": "white",
             "minorgridcolor": "white",
             "startlinecolor": "#2a3f5f"
            },
            "baxis": {
             "endlinecolor": "#2a3f5f",
             "gridcolor": "white",
             "linecolor": "white",
             "minorgridcolor": "white",
             "startlinecolor": "#2a3f5f"
            },
            "type": "carpet"
           }
          ],
          "choropleth": [
           {
            "colorbar": {
             "outlinewidth": 0,
             "ticks": ""
            },
            "type": "choropleth"
           }
          ],
          "contour": [
           {
            "colorbar": {
             "outlinewidth": 0,
             "ticks": ""
            },
            "colorscale": [
             [
              0,
              "#0d0887"
             ],
             [
              0.1111111111111111,
              "#46039f"
             ],
             [
              0.2222222222222222,
              "#7201a8"
             ],
             [
              0.3333333333333333,
              "#9c179e"
             ],
             [
              0.4444444444444444,
              "#bd3786"
             ],
             [
              0.5555555555555556,
              "#d8576b"
             ],
             [
              0.6666666666666666,
              "#ed7953"
             ],
             [
              0.7777777777777778,
              "#fb9f3a"
             ],
             [
              0.8888888888888888,
              "#fdca26"
             ],
             [
              1,
              "#f0f921"
             ]
            ],
            "type": "contour"
           }
          ],
          "contourcarpet": [
           {
            "colorbar": {
             "outlinewidth": 0,
             "ticks": ""
            },
            "type": "contourcarpet"
           }
          ],
          "heatmap": [
           {
            "colorbar": {
             "outlinewidth": 0,
             "ticks": ""
            },
            "colorscale": [
             [
              0,
              "#0d0887"
             ],
             [
              0.1111111111111111,
              "#46039f"
             ],
             [
              0.2222222222222222,
              "#7201a8"
             ],
             [
              0.3333333333333333,
              "#9c179e"
             ],
             [
              0.4444444444444444,
              "#bd3786"
             ],
             [
              0.5555555555555556,
              "#d8576b"
             ],
             [
              0.6666666666666666,
              "#ed7953"
             ],
             [
              0.7777777777777778,
              "#fb9f3a"
             ],
             [
              0.8888888888888888,
              "#fdca26"
             ],
             [
              1,
              "#f0f921"
             ]
            ],
            "type": "heatmap"
           }
          ],
          "histogram": [
           {
            "marker": {
             "pattern": {
              "fillmode": "overlay",
              "size": 10,
              "solidity": 0.2
             }
            },
            "type": "histogram"
           }
          ],
          "histogram2d": [
           {
            "colorbar": {
             "outlinewidth": 0,
             "ticks": ""
            },
            "colorscale": [
             [
              0,
              "#0d0887"
             ],
             [
              0.1111111111111111,
              "#46039f"
             ],
             [
              0.2222222222222222,
              "#7201a8"
             ],
             [
              0.3333333333333333,
              "#9c179e"
             ],
             [
              0.4444444444444444,
              "#bd3786"
             ],
             [
              0.5555555555555556,
              "#d8576b"
             ],
             [
              0.6666666666666666,
              "#ed7953"
             ],
             [
              0.7777777777777778,
              "#fb9f3a"
             ],
             [
              0.8888888888888888,
              "#fdca26"
             ],
             [
              1,
              "#f0f921"
             ]
            ],
            "type": "histogram2d"
           }
          ],
          "histogram2dcontour": [
           {
            "colorbar": {
             "outlinewidth": 0,
             "ticks": ""
            },
            "colorscale": [
             [
              0,
              "#0d0887"
             ],
             [
              0.1111111111111111,
              "#46039f"
             ],
             [
              0.2222222222222222,
              "#7201a8"
             ],
             [
              0.3333333333333333,
              "#9c179e"
             ],
             [
              0.4444444444444444,
              "#bd3786"
             ],
             [
              0.5555555555555556,
              "#d8576b"
             ],
             [
              0.6666666666666666,
              "#ed7953"
             ],
             [
              0.7777777777777778,
              "#fb9f3a"
             ],
             [
              0.8888888888888888,
              "#fdca26"
             ],
             [
              1,
              "#f0f921"
             ]
            ],
            "type": "histogram2dcontour"
           }
          ],
          "mesh3d": [
           {
            "colorbar": {
             "outlinewidth": 0,
             "ticks": ""
            },
            "type": "mesh3d"
           }
          ],
          "parcoords": [
           {
            "line": {
             "colorbar": {
              "outlinewidth": 0,
              "ticks": ""
             }
            },
            "type": "parcoords"
           }
          ],
          "pie": [
           {
            "automargin": true,
            "type": "pie"
           }
          ],
          "scatter": [
           {
            "fillpattern": {
             "fillmode": "overlay",
             "size": 10,
             "solidity": 0.2
            },
            "type": "scatter"
           }
          ],
          "scatter3d": [
           {
            "line": {
             "colorbar": {
              "outlinewidth": 0,
              "ticks": ""
             }
            },
            "marker": {
             "colorbar": {
              "outlinewidth": 0,
              "ticks": ""
             }
            },
            "type": "scatter3d"
           }
          ],
          "scattercarpet": [
           {
            "marker": {
             "colorbar": {
              "outlinewidth": 0,
              "ticks": ""
             }
            },
            "type": "scattercarpet"
           }
          ],
          "scattergeo": [
           {
            "marker": {
             "colorbar": {
              "outlinewidth": 0,
              "ticks": ""
             }
            },
            "type": "scattergeo"
           }
          ],
          "scattergl": [
           {
            "marker": {
             "colorbar": {
              "outlinewidth": 0,
              "ticks": ""
             }
            },
            "type": "scattergl"
           }
          ],
          "scattermap": [
           {
            "marker": {
             "colorbar": {
              "outlinewidth": 0,
              "ticks": ""
             }
            },
            "type": "scattermap"
           }
          ],
          "scattermapbox": [
           {
            "marker": {
             "colorbar": {
              "outlinewidth": 0,
              "ticks": ""
             }
            },
            "type": "scattermapbox"
           }
          ],
          "scatterpolar": [
           {
            "marker": {
             "colorbar": {
              "outlinewidth": 0,
              "ticks": ""
             }
            },
            "type": "scatterpolar"
           }
          ],
          "scatterpolargl": [
           {
            "marker": {
             "colorbar": {
              "outlinewidth": 0,
              "ticks": ""
             }
            },
            "type": "scatterpolargl"
           }
          ],
          "scatterternary": [
           {
            "marker": {
             "colorbar": {
              "outlinewidth": 0,
              "ticks": ""
             }
            },
            "type": "scatterternary"
           }
          ],
          "surface": [
           {
            "colorbar": {
             "outlinewidth": 0,
             "ticks": ""
            },
            "colorscale": [
             [
              0,
              "#0d0887"
             ],
             [
              0.1111111111111111,
              "#46039f"
             ],
             [
              0.2222222222222222,
              "#7201a8"
             ],
             [
              0.3333333333333333,
              "#9c179e"
             ],
             [
              0.4444444444444444,
              "#bd3786"
             ],
             [
              0.5555555555555556,
              "#d8576b"
             ],
             [
              0.6666666666666666,
              "#ed7953"
             ],
             [
              0.7777777777777778,
              "#fb9f3a"
             ],
             [
              0.8888888888888888,
              "#fdca26"
             ],
             [
              1,
              "#f0f921"
             ]
            ],
            "type": "surface"
           }
          ],
          "table": [
           {
            "cells": {
             "fill": {
              "color": "#EBF0F8"
             },
             "line": {
              "color": "white"
             }
            },
            "header": {
             "fill": {
              "color": "#C8D4E3"
             },
             "line": {
              "color": "white"
             }
            },
            "type": "table"
           }
          ]
         },
         "layout": {
          "annotationdefaults": {
           "arrowcolor": "#2a3f5f",
           "arrowhead": 0,
           "arrowwidth": 1
          },
          "autotypenumbers": "strict",
          "coloraxis": {
           "colorbar": {
            "outlinewidth": 0,
            "ticks": ""
           }
          },
          "colorscale": {
           "diverging": [
            [
             0,
             "#8e0152"
            ],
            [
             0.1,
             "#c51b7d"
            ],
            [
             0.2,
             "#de77ae"
            ],
            [
             0.3,
             "#f1b6da"
            ],
            [
             0.4,
             "#fde0ef"
            ],
            [
             0.5,
             "#f7f7f7"
            ],
            [
             0.6,
             "#e6f5d0"
            ],
            [
             0.7,
             "#b8e186"
            ],
            [
             0.8,
             "#7fbc41"
            ],
            [
             0.9,
             "#4d9221"
            ],
            [
             1,
             "#276419"
            ]
           ],
           "sequential": [
            [
             0,
             "#0d0887"
            ],
            [
             0.1111111111111111,
             "#46039f"
            ],
            [
             0.2222222222222222,
             "#7201a8"
            ],
            [
             0.3333333333333333,
             "#9c179e"
            ],
            [
             0.4444444444444444,
             "#bd3786"
            ],
            [
             0.5555555555555556,
             "#d8576b"
            ],
            [
             0.6666666666666666,
             "#ed7953"
            ],
            [
             0.7777777777777778,
             "#fb9f3a"
            ],
            [
             0.8888888888888888,
             "#fdca26"
            ],
            [
             1,
             "#f0f921"
            ]
           ],
           "sequentialminus": [
            [
             0,
             "#0d0887"
            ],
            [
             0.1111111111111111,
             "#46039f"
            ],
            [
             0.2222222222222222,
             "#7201a8"
            ],
            [
             0.3333333333333333,
             "#9c179e"
            ],
            [
             0.4444444444444444,
             "#bd3786"
            ],
            [
             0.5555555555555556,
             "#d8576b"
            ],
            [
             0.6666666666666666,
             "#ed7953"
            ],
            [
             0.7777777777777778,
             "#fb9f3a"
            ],
            [
             0.8888888888888888,
             "#fdca26"
            ],
            [
             1,
             "#f0f921"
            ]
           ]
          },
          "colorway": [
           "#636efa",
           "#EF553B",
           "#00cc96",
           "#ab63fa",
           "#FFA15A",
           "#19d3f3",
           "#FF6692",
           "#B6E880",
           "#FF97FF",
           "#FECB52"
          ],
          "font": {
           "color": "#2a3f5f"
          },
          "geo": {
           "bgcolor": "white",
           "lakecolor": "white",
           "landcolor": "#E5ECF6",
           "showlakes": true,
           "showland": true,
           "subunitcolor": "white"
          },
          "hoverlabel": {
           "align": "left"
          },
          "hovermode": "closest",
          "mapbox": {
           "style": "light"
          },
          "paper_bgcolor": "white",
          "plot_bgcolor": "#E5ECF6",
          "polar": {
           "angularaxis": {
            "gridcolor": "white",
            "linecolor": "white",
            "ticks": ""
           },
           "bgcolor": "#E5ECF6",
           "radialaxis": {
            "gridcolor": "white",
            "linecolor": "white",
            "ticks": ""
           }
          },
          "scene": {
           "xaxis": {
            "backgroundcolor": "#E5ECF6",
            "gridcolor": "white",
            "gridwidth": 2,
            "linecolor": "white",
            "showbackground": true,
            "ticks": "",
            "zerolinecolor": "white"
           },
           "yaxis": {
            "backgroundcolor": "#E5ECF6",
            "gridcolor": "white",
            "gridwidth": 2,
            "linecolor": "white",
            "showbackground": true,
            "ticks": "",
            "zerolinecolor": "white"
           },
           "zaxis": {
            "backgroundcolor": "#E5ECF6",
            "gridcolor": "white",
            "gridwidth": 2,
            "linecolor": "white",
            "showbackground": true,
            "ticks": "",
            "zerolinecolor": "white"
           }
          },
          "shapedefaults": {
           "line": {
            "color": "#2a3f5f"
           }
          },
          "ternary": {
           "aaxis": {
            "gridcolor": "white",
            "linecolor": "white",
            "ticks": ""
           },
           "baxis": {
            "gridcolor": "white",
            "linecolor": "white",
            "ticks": ""
           },
           "bgcolor": "#E5ECF6",
           "caxis": {
            "gridcolor": "white",
            "linecolor": "white",
            "ticks": ""
           }
          },
          "title": {
           "x": 0.05
          },
          "xaxis": {
           "automargin": true,
           "gridcolor": "white",
           "linecolor": "white",
           "ticks": "",
           "title": {
            "standoff": 15
           },
           "zerolinecolor": "white",
           "zerolinewidth": 2
          },
          "yaxis": {
           "automargin": true,
           "gridcolor": "white",
           "linecolor": "white",
           "ticks": "",
           "title": {
            "standoff": 15
           },
           "zerolinecolor": "white",
           "zerolinewidth": 2
          }
         }
        }
       }
      }
     },
     "metadata": {},
     "output_type": "display_data"
    }
   ],
   "source": [
    "fig = px.scatter_matrix(\n",
    "    principalComponents,\n",
    "    dimensions=range(4),\n",
    "    color=data[\"TEAM \"],\n",
    ")\n",
    "fig.update_traces(diagonal_visible=False)\n",
    "fig.show()\n"
   ]
  },
  {
   "cell_type": "code",
   "execution_count": 24,
   "metadata": {},
   "outputs": [
    {
     "ename": "TypeError",
     "evalue": "scatter() got an unexpected keyword argument 'shape'",
     "output_type": "error",
     "traceback": [
      "\u001b[0;31m---------------------------------------------------------------------------\u001b[0m",
      "\u001b[0;31mTypeError\u001b[0m                                 Traceback (most recent call last)",
      "Cell \u001b[0;32mIn[24], line 1\u001b[0m\n\u001b[0;32m----> 1\u001b[0m fig \u001b[38;5;241m=\u001b[39m \u001b[43mpx\u001b[49m\u001b[38;5;241;43m.\u001b[39;49m\u001b[43mscatter\u001b[49m\u001b[43m(\u001b[49m\u001b[43mprincipalComponents\u001b[49m\u001b[43m,\u001b[49m\u001b[43m \u001b[49m\u001b[43mx\u001b[49m\u001b[38;5;241;43m=\u001b[39;49m\u001b[38;5;241;43m0\u001b[39;49m\u001b[43m,\u001b[49m\u001b[43m \u001b[49m\u001b[43my\u001b[49m\u001b[38;5;241;43m=\u001b[39;49m\u001b[38;5;241;43m1\u001b[39;49m\u001b[43m,\u001b[49m\u001b[43m \u001b[49m\u001b[43mcolor\u001b[49m\u001b[38;5;241;43m=\u001b[39;49m\u001b[43mdata\u001b[49m\u001b[43m[\u001b[49m\u001b[38;5;124;43m\"\u001b[39;49m\u001b[38;5;124;43mPOSITION\u001b[39;49m\u001b[38;5;124;43m\"\u001b[39;49m\u001b[43m]\u001b[49m\u001b[43m,\u001b[49m\u001b[43mshape\u001b[49m\u001b[38;5;241;43m=\u001b[39;49m\u001b[43mdata\u001b[49m\u001b[43m[\u001b[49m\u001b[38;5;124;43m\"\u001b[39;49m\u001b[38;5;124;43mTEAM \u001b[39;49m\u001b[38;5;124;43m\"\u001b[39;49m\u001b[43m]\u001b[49m\u001b[43m)\u001b[49m\n\u001b[1;32m      2\u001b[0m fig\u001b[38;5;241m.\u001b[39mshow()      \n",
      "\u001b[0;31mTypeError\u001b[0m: scatter() got an unexpected keyword argument 'shape'"
     ]
    }
   ],
   "source": [
    "fig = px.scatter(principalComponents, x=0, y=1, color=data[\"TEAM \"])  \n",
    "fig.show()\n",
    "\n",
    "fig = px.scatter(principalComponents, x=0, y=1, color=data[\"POSITION\"])\n",
    "fig.show()      "
   ]
  },
  {
   "cell_type": "code",
   "execution_count": 30,
   "metadata": {},
   "outputs": [
    {
     "data": {
      "application/vnd.plotly.v1+json": {
       "config": {
        "plotlyServerURL": "https://plot.ly"
       },
       "data": [
        {
         "hovertemplate": "color=Guard<br>0=%{x}<br>1=%{y}<extra></extra>",
         "legendgroup": "Guard",
         "marker": {
          "color": "#636efa",
          "symbol": "circle"
         },
         "mode": "markers",
         "name": "Guard",
         "orientation": "v",
         "showlegend": true,
         "type": "scatter",
         "x": {
          "bdata": "JAc0PgPdBsCrC4oqX8nxv3xIR2pP+QPAKqpDkSYQE8BABfaI+EgQQFBoDWcNlAZAHzxvpkrPEkDDFbw7QBD/P7c6+bl9+hNAY+DLGCa7BcB7XNHdPzrev4wGORX24eq/QpEHAixSDECnle67s0v+P5eJTxIi6vw/tHsG9tKbCsCzqTTCDG/uv+dF5CuC+BTAnpd58PoA/L+g5qT9jaCvvx37Pa9e+BHAM5BzdvruBEBLx0c0xe0UwD1D+ourdP0/3ORRvOe9pb/k2sIA0WsLQEjTmxhyFuy/",
          "dtype": "f8"
         },
         "xaxis": "x",
         "y": {
          "bdata": "jcIW5ZbB0j+3NWNWP5nxv7exYjUPOsC/dKGAseud8r+8RSIOHB4DwNKCC4zVdADA12rntyNEB8AdQiFDx1nsvxACOO+ktQXAwc+wALT8xb8qoejnGiEAwEenNpvjS/K/4rIeb/A3BMAPaOaZQc8CwAkg8T2AL/y/UX/fzyJAur/Aa9B9W1Pxv/6CfzZcRPU/fVhHtuSWsj8ueVIx9cvsv/vaPLSber4/0my2f2zMAMAy2A29HhWlv30I8nCjBvW//AYdSa4P5b/TcOrdjIb3v0h1RHXxqeu/",
          "dtype": "f8"
         },
         "yaxis": "y"
        },
        {
         "hovertemplate": "color=Forward<br>0=%{x}<br>1=%{y}<extra></extra>",
         "legendgroup": "Forward",
         "marker": {
          "color": "#EF553B",
          "symbol": "circle"
         },
         "mode": "markers",
         "name": "Forward",
         "orientation": "v",
         "showlegend": true,
         "type": "scatter",
         "x": {
          "bdata": "fG5CS1t4/7/3sqIysMYVwFshegJllfO/cxv1862Bib/7fnWIHOcPQHaJPisONw/AO8t/f6TZ6L9X/irV+jD2v3qSYYh4fvy/jFWNA9wMDsBgVFkTI4MHQDgvYIrGmfY/FpAId1xrA0CBlhvrLPH0v+AyVwPt3gRAyepXgWW5AUBubtAquD0QQGgUkSBMyPK/YhlHMjvcEkCuEyG1TWXKv3avrXpCNee/HMomXoBE5j/cFLJc/U4YwOkAXNp3jv2/",
          "dtype": "f8"
         },
         "xaxis": "x",
         "y": {
          "bdata": "hw59Y70z9D+U/CE74Ab5vwb2BxVFE7y/l+AJovoO8D921FZTNi34PxdjHj/puOC/4Xl89bAQ4L/rKqIYhx3mv9/Chyyf/ta/+BbNvC5b7D9xRB1isBPZv4twnV6cVLq/PiF3M8195j+S6aaT9UPnP0oGyBo/N+K/0IMtpAbY5b9NHF8AWk3Hvxe/VddZBfE/5Jkrxt1itz8lV6ltTTnlv5rGX9WOSQFA43TZjaYM7D8QOzrwYDfTPycyTKIUN9g/",
          "dtype": "f8"
         },
         "yaxis": "y"
        },
        {
         "hovertemplate": "color=Center<br>0=%{x}<br>1=%{y}<extra></extra>",
         "legendgroup": "Center",
         "marker": {
          "color": "#00cc96",
          "symbol": "circle"
         },
         "mode": "markers",
         "name": "Center",
         "orientation": "v",
         "showlegend": true,
         "type": "scatter",
         "x": {
          "bdata": "bHOheS/UG0CgUMEVjaX6v5l7bMkDlhXA8Ini+fGEBEA6Lkq/kDcTQOOGaINfEeY/JkxsM5qFB0BzrPZN4l3VP0KNsyQF3ABA/5lyJ4+DGMBfiGPWkDILQNF1au/IxOS/Y6oFnwrswj8=",
          "dtype": "f8"
         },
         "xaxis": "x",
         "y": {
          "bdata": "W0vDCju9BUB3sOc8MF0AQJ44orKYbKI/mwXDGkbwD0ANLZDyq6gQQBWsGB4nGe8/OgXe2/udCkD0hafIpIDsP3cph2N4/wxA+xJOUX831D/xLmNMYgn0P2vcayPSguA/3RceU+Pr+D8=",
          "dtype": "f8"
         },
         "yaxis": "y"
        }
       ],
       "layout": {
        "annotations": [
         {
          "arrowhead": 2,
          "arrowsize": 2,
          "ax": 0,
          "axref": "x",
          "ay": 0,
          "ayref": "y",
          "showarrow": true,
          "x": 0.8418633432150968,
          "xanchor": "right",
          "y": -0.12264255538131418,
          "yanchor": "top"
         },
         {
          "ax": 0,
          "ay": 0,
          "text": "GP",
          "x": 0.8418633432150968,
          "xanchor": "center",
          "y": -0.12264255538131418,
          "yanchor": "bottom",
          "yshift": 5
         },
         {
          "arrowhead": 2,
          "arrowsize": 2,
          "ax": 0,
          "axref": "x",
          "ay": 0,
          "ayref": "y",
          "showarrow": true,
          "x": 0.7728610420851962,
          "xanchor": "right",
          "y": -0.0919978281089246,
          "yanchor": "top"
         },
         {
          "ax": 0,
          "ay": 0,
          "text": "GS",
          "x": 0.7728610420851962,
          "xanchor": "center",
          "y": -0.0919978281089246,
          "yanchor": "bottom",
          "yshift": 5
         },
         {
          "arrowhead": 2,
          "arrowsize": 2,
          "ax": 0,
          "axref": "x",
          "ay": 0,
          "ayref": "y",
          "showarrow": true,
          "x": 0.9641494887621654,
          "xanchor": "right",
          "y": -0.14696587464032984,
          "yanchor": "top"
         },
         {
          "ax": 0,
          "ay": 0,
          "text": "Min",
          "x": 0.9641494887621654,
          "xanchor": "center",
          "y": -0.14696587464032984,
          "yanchor": "bottom",
          "yshift": 5
         },
         {
          "arrowhead": 2,
          "arrowsize": 2,
          "ax": 0,
          "axref": "x",
          "ay": 0,
          "ayref": "y",
          "showarrow": true,
          "x": 0.9192049924683838,
          "xanchor": "right",
          "y": -0.158676421818025,
          "yanchor": "top"
         },
         {
          "ax": 0,
          "ay": 0,
          "text": "PTS",
          "x": 0.9192049924683838,
          "xanchor": "center",
          "y": -0.158676421818025,
          "yanchor": "bottom",
          "yshift": 5
         },
         {
          "arrowhead": 2,
          "arrowsize": 2,
          "ax": 0,
          "axref": "x",
          "ay": 0,
          "ayref": "y",
          "showarrow": true,
          "x": 0.45070076441052265,
          "xanchor": "right",
          "y": 0.3379408310285873,
          "yanchor": "top"
         },
         {
          "ax": 0,
          "ay": 0,
          "text": "2P%",
          "x": 0.45070076441052265,
          "xanchor": "center",
          "y": 0.3379408310285873,
          "yanchor": "bottom",
          "yshift": 5
         },
         {
          "arrowhead": 2,
          "arrowsize": 2,
          "ax": 0,
          "axref": "x",
          "ay": 0,
          "ayref": "y",
          "showarrow": true,
          "x": 0.0918076055998295,
          "xanchor": "right",
          "y": -0.4811463043187568,
          "yanchor": "top"
         },
         {
          "ax": 0,
          "ay": 0,
          "text": "3P%",
          "x": 0.0918076055998295,
          "xanchor": "center",
          "y": -0.4811463043187568,
          "yanchor": "bottom",
          "yshift": 5
         },
         {
          "arrowhead": 2,
          "arrowsize": 2,
          "ax": 0,
          "axref": "x",
          "ay": 0,
          "ayref": "y",
          "showarrow": true,
          "x": 0.5958178274813564,
          "xanchor": "right",
          "y": -0.12584193783830988,
          "yanchor": "top"
         },
         {
          "ax": 0,
          "ay": 0,
          "text": "FT%",
          "x": 0.5958178274813564,
          "xanchor": "center",
          "y": -0.12584193783830988,
          "yanchor": "bottom",
          "yshift": 5
         },
         {
          "arrowhead": 2,
          "arrowsize": 2,
          "ax": 0,
          "axref": "x",
          "ay": 0,
          "ayref": "y",
          "showarrow": true,
          "x": 0.6513873310019184,
          "xanchor": "right",
          "y": 0.6783389194778922,
          "yanchor": "top"
         },
         {
          "ax": 0,
          "ay": 0,
          "text": "OR",
          "x": 0.6513873310019184,
          "xanchor": "center",
          "y": 0.6783389194778922,
          "yanchor": "bottom",
          "yshift": 5
         },
         {
          "arrowhead": 2,
          "arrowsize": 2,
          "ax": 0,
          "axref": "x",
          "ay": 0,
          "ayref": "y",
          "showarrow": true,
          "x": 0.8809049755399004,
          "xanchor": "right",
          "y": 0.26668392157471155,
          "yanchor": "top"
         },
         {
          "ax": 0,
          "ay": 0,
          "text": "DR",
          "x": 0.8809049755399004,
          "xanchor": "center",
          "y": 0.26668392157471155,
          "yanchor": "bottom",
          "yshift": 5
         },
         {
          "arrowhead": 2,
          "arrowsize": 2,
          "ax": 0,
          "axref": "x",
          "ay": 0,
          "ayref": "y",
          "showarrow": true,
          "x": 0.8542540919058351,
          "xanchor": "right",
          "y": 0.43605350674762444,
          "yanchor": "top"
         },
         {
          "ax": 0,
          "ay": 0,
          "text": "TR",
          "x": 0.8542540919058351,
          "xanchor": "center",
          "y": 0.43605350674762444,
          "yanchor": "bottom",
          "yshift": 5
         },
         {
          "arrowhead": 2,
          "arrowsize": 2,
          "ax": 0,
          "axref": "x",
          "ay": 0,
          "ayref": "y",
          "showarrow": true,
          "x": 0.6045655187709217,
          "xanchor": "right",
          "y": -0.5765881564509737,
          "yanchor": "top"
         },
         {
          "ax": 0,
          "ay": 0,
          "text": "AST",
          "x": 0.6045655187709217,
          "xanchor": "center",
          "y": -0.5765881564509737,
          "yanchor": "bottom",
          "yshift": 5
         },
         {
          "arrowhead": 2,
          "arrowsize": 2,
          "ax": 0,
          "axref": "x",
          "ay": 0,
          "ayref": "y",
          "showarrow": true,
          "x": 0.7253082796235555,
          "xanchor": "right",
          "y": -0.41470316652522404,
          "yanchor": "top"
         },
         {
          "ax": 0,
          "ay": 0,
          "text": "STL",
          "x": 0.7253082796235555,
          "xanchor": "center",
          "y": -0.41470316652522404,
          "yanchor": "bottom",
          "yshift": 5
         },
         {
          "arrowhead": 2,
          "arrowsize": 2,
          "ax": 0,
          "axref": "x",
          "ay": 0,
          "ayref": "y",
          "showarrow": true,
          "x": 0.8223996024640772,
          "xanchor": "right",
          "y": -0.3336977406933741,
          "yanchor": "top"
         },
         {
          "ax": 0,
          "ay": 0,
          "text": "TO",
          "x": 0.8223996024640772,
          "xanchor": "center",
          "y": -0.3336977406933741,
          "yanchor": "bottom",
          "yshift": 5
         },
         {
          "arrowhead": 2,
          "arrowsize": 2,
          "ax": 0,
          "axref": "x",
          "ay": 0,
          "ayref": "y",
          "showarrow": true,
          "x": 0.3594101164101824,
          "xanchor": "right",
          "y": 0.7981801711947455,
          "yanchor": "top"
         },
         {
          "ax": 0,
          "ay": 0,
          "text": "BLK",
          "x": 0.3594101164101824,
          "xanchor": "center",
          "y": 0.7981801711947455,
          "yanchor": "bottom",
          "yshift": 5
         },
         {
          "arrowhead": 2,
          "arrowsize": 2,
          "ax": 0,
          "axref": "x",
          "ay": 0,
          "ayref": "y",
          "showarrow": true,
          "x": 0.594032886406773,
          "xanchor": "right",
          "y": -0.22956086403425016,
          "yanchor": "top"
         },
         {
          "ax": 0,
          "ay": 0,
          "text": "BLKA",
          "x": 0.594032886406773,
          "xanchor": "center",
          "y": -0.22956086403425016,
          "yanchor": "bottom",
          "yshift": 5
         },
         {
          "arrowhead": 2,
          "arrowsize": 2,
          "ax": 0,
          "axref": "x",
          "ay": 0,
          "ayref": "y",
          "showarrow": true,
          "x": 0.8061783083842209,
          "xanchor": "right",
          "y": -0.04805447409386693,
          "yanchor": "top"
         },
         {
          "ax": 0,
          "ay": 0,
          "text": "FC",
          "x": 0.8061783083842209,
          "xanchor": "center",
          "y": -0.04805447409386693,
          "yanchor": "bottom",
          "yshift": 5
         },
         {
          "arrowhead": 2,
          "arrowsize": 2,
          "ax": 0,
          "axref": "x",
          "ay": 0,
          "ayref": "y",
          "showarrow": true,
          "x": 0.8565527178674732,
          "xanchor": "right",
          "y": 0.1321473183719218,
          "yanchor": "top"
         },
         {
          "ax": 0,
          "ay": 0,
          "text": "FD",
          "x": 0.8565527178674732,
          "xanchor": "center",
          "y": 0.1321473183719218,
          "yanchor": "bottom",
          "yshift": 5
         },
         {
          "arrowhead": 2,
          "arrowsize": 2,
          "ax": 0,
          "axref": "x",
          "ay": 0,
          "ayref": "y",
          "showarrow": true,
          "x": 0.9524044758263561,
          "xanchor": "right",
          "y": 0.0822207370908251,
          "yanchor": "top"
         },
         {
          "ax": 0,
          "ay": 0,
          "text": "PIR",
          "x": 0.9524044758263561,
          "xanchor": "center",
          "y": 0.0822207370908251,
          "yanchor": "bottom",
          "yshift": 5
         }
        ],
        "legend": {
         "title": {
          "text": "color"
         },
         "tracegroupgap": 0
        },
        "margin": {
         "t": 60
        },
        "template": {
         "data": {
          "bar": [
           {
            "error_x": {
             "color": "#2a3f5f"
            },
            "error_y": {
             "color": "#2a3f5f"
            },
            "marker": {
             "line": {
              "color": "#E5ECF6",
              "width": 0.5
             },
             "pattern": {
              "fillmode": "overlay",
              "size": 10,
              "solidity": 0.2
             }
            },
            "type": "bar"
           }
          ],
          "barpolar": [
           {
            "marker": {
             "line": {
              "color": "#E5ECF6",
              "width": 0.5
             },
             "pattern": {
              "fillmode": "overlay",
              "size": 10,
              "solidity": 0.2
             }
            },
            "type": "barpolar"
           }
          ],
          "carpet": [
           {
            "aaxis": {
             "endlinecolor": "#2a3f5f",
             "gridcolor": "white",
             "linecolor": "white",
             "minorgridcolor": "white",
             "startlinecolor": "#2a3f5f"
            },
            "baxis": {
             "endlinecolor": "#2a3f5f",
             "gridcolor": "white",
             "linecolor": "white",
             "minorgridcolor": "white",
             "startlinecolor": "#2a3f5f"
            },
            "type": "carpet"
           }
          ],
          "choropleth": [
           {
            "colorbar": {
             "outlinewidth": 0,
             "ticks": ""
            },
            "type": "choropleth"
           }
          ],
          "contour": [
           {
            "colorbar": {
             "outlinewidth": 0,
             "ticks": ""
            },
            "colorscale": [
             [
              0,
              "#0d0887"
             ],
             [
              0.1111111111111111,
              "#46039f"
             ],
             [
              0.2222222222222222,
              "#7201a8"
             ],
             [
              0.3333333333333333,
              "#9c179e"
             ],
             [
              0.4444444444444444,
              "#bd3786"
             ],
             [
              0.5555555555555556,
              "#d8576b"
             ],
             [
              0.6666666666666666,
              "#ed7953"
             ],
             [
              0.7777777777777778,
              "#fb9f3a"
             ],
             [
              0.8888888888888888,
              "#fdca26"
             ],
             [
              1,
              "#f0f921"
             ]
            ],
            "type": "contour"
           }
          ],
          "contourcarpet": [
           {
            "colorbar": {
             "outlinewidth": 0,
             "ticks": ""
            },
            "type": "contourcarpet"
           }
          ],
          "heatmap": [
           {
            "colorbar": {
             "outlinewidth": 0,
             "ticks": ""
            },
            "colorscale": [
             [
              0,
              "#0d0887"
             ],
             [
              0.1111111111111111,
              "#46039f"
             ],
             [
              0.2222222222222222,
              "#7201a8"
             ],
             [
              0.3333333333333333,
              "#9c179e"
             ],
             [
              0.4444444444444444,
              "#bd3786"
             ],
             [
              0.5555555555555556,
              "#d8576b"
             ],
             [
              0.6666666666666666,
              "#ed7953"
             ],
             [
              0.7777777777777778,
              "#fb9f3a"
             ],
             [
              0.8888888888888888,
              "#fdca26"
             ],
             [
              1,
              "#f0f921"
             ]
            ],
            "type": "heatmap"
           }
          ],
          "histogram": [
           {
            "marker": {
             "pattern": {
              "fillmode": "overlay",
              "size": 10,
              "solidity": 0.2
             }
            },
            "type": "histogram"
           }
          ],
          "histogram2d": [
           {
            "colorbar": {
             "outlinewidth": 0,
             "ticks": ""
            },
            "colorscale": [
             [
              0,
              "#0d0887"
             ],
             [
              0.1111111111111111,
              "#46039f"
             ],
             [
              0.2222222222222222,
              "#7201a8"
             ],
             [
              0.3333333333333333,
              "#9c179e"
             ],
             [
              0.4444444444444444,
              "#bd3786"
             ],
             [
              0.5555555555555556,
              "#d8576b"
             ],
             [
              0.6666666666666666,
              "#ed7953"
             ],
             [
              0.7777777777777778,
              "#fb9f3a"
             ],
             [
              0.8888888888888888,
              "#fdca26"
             ],
             [
              1,
              "#f0f921"
             ]
            ],
            "type": "histogram2d"
           }
          ],
          "histogram2dcontour": [
           {
            "colorbar": {
             "outlinewidth": 0,
             "ticks": ""
            },
            "colorscale": [
             [
              0,
              "#0d0887"
             ],
             [
              0.1111111111111111,
              "#46039f"
             ],
             [
              0.2222222222222222,
              "#7201a8"
             ],
             [
              0.3333333333333333,
              "#9c179e"
             ],
             [
              0.4444444444444444,
              "#bd3786"
             ],
             [
              0.5555555555555556,
              "#d8576b"
             ],
             [
              0.6666666666666666,
              "#ed7953"
             ],
             [
              0.7777777777777778,
              "#fb9f3a"
             ],
             [
              0.8888888888888888,
              "#fdca26"
             ],
             [
              1,
              "#f0f921"
             ]
            ],
            "type": "histogram2dcontour"
           }
          ],
          "mesh3d": [
           {
            "colorbar": {
             "outlinewidth": 0,
             "ticks": ""
            },
            "type": "mesh3d"
           }
          ],
          "parcoords": [
           {
            "line": {
             "colorbar": {
              "outlinewidth": 0,
              "ticks": ""
             }
            },
            "type": "parcoords"
           }
          ],
          "pie": [
           {
            "automargin": true,
            "type": "pie"
           }
          ],
          "scatter": [
           {
            "fillpattern": {
             "fillmode": "overlay",
             "size": 10,
             "solidity": 0.2
            },
            "type": "scatter"
           }
          ],
          "scatter3d": [
           {
            "line": {
             "colorbar": {
              "outlinewidth": 0,
              "ticks": ""
             }
            },
            "marker": {
             "colorbar": {
              "outlinewidth": 0,
              "ticks": ""
             }
            },
            "type": "scatter3d"
           }
          ],
          "scattercarpet": [
           {
            "marker": {
             "colorbar": {
              "outlinewidth": 0,
              "ticks": ""
             }
            },
            "type": "scattercarpet"
           }
          ],
          "scattergeo": [
           {
            "marker": {
             "colorbar": {
              "outlinewidth": 0,
              "ticks": ""
             }
            },
            "type": "scattergeo"
           }
          ],
          "scattergl": [
           {
            "marker": {
             "colorbar": {
              "outlinewidth": 0,
              "ticks": ""
             }
            },
            "type": "scattergl"
           }
          ],
          "scattermap": [
           {
            "marker": {
             "colorbar": {
              "outlinewidth": 0,
              "ticks": ""
             }
            },
            "type": "scattermap"
           }
          ],
          "scattermapbox": [
           {
            "marker": {
             "colorbar": {
              "outlinewidth": 0,
              "ticks": ""
             }
            },
            "type": "scattermapbox"
           }
          ],
          "scatterpolar": [
           {
            "marker": {
             "colorbar": {
              "outlinewidth": 0,
              "ticks": ""
             }
            },
            "type": "scatterpolar"
           }
          ],
          "scatterpolargl": [
           {
            "marker": {
             "colorbar": {
              "outlinewidth": 0,
              "ticks": ""
             }
            },
            "type": "scatterpolargl"
           }
          ],
          "scatterternary": [
           {
            "marker": {
             "colorbar": {
              "outlinewidth": 0,
              "ticks": ""
             }
            },
            "type": "scatterternary"
           }
          ],
          "surface": [
           {
            "colorbar": {
             "outlinewidth": 0,
             "ticks": ""
            },
            "colorscale": [
             [
              0,
              "#0d0887"
             ],
             [
              0.1111111111111111,
              "#46039f"
             ],
             [
              0.2222222222222222,
              "#7201a8"
             ],
             [
              0.3333333333333333,
              "#9c179e"
             ],
             [
              0.4444444444444444,
              "#bd3786"
             ],
             [
              0.5555555555555556,
              "#d8576b"
             ],
             [
              0.6666666666666666,
              "#ed7953"
             ],
             [
              0.7777777777777778,
              "#fb9f3a"
             ],
             [
              0.8888888888888888,
              "#fdca26"
             ],
             [
              1,
              "#f0f921"
             ]
            ],
            "type": "surface"
           }
          ],
          "table": [
           {
            "cells": {
             "fill": {
              "color": "#EBF0F8"
             },
             "line": {
              "color": "white"
             }
            },
            "header": {
             "fill": {
              "color": "#C8D4E3"
             },
             "line": {
              "color": "white"
             }
            },
            "type": "table"
           }
          ]
         },
         "layout": {
          "annotationdefaults": {
           "arrowcolor": "#2a3f5f",
           "arrowhead": 0,
           "arrowwidth": 1
          },
          "autotypenumbers": "strict",
          "coloraxis": {
           "colorbar": {
            "outlinewidth": 0,
            "ticks": ""
           }
          },
          "colorscale": {
           "diverging": [
            [
             0,
             "#8e0152"
            ],
            [
             0.1,
             "#c51b7d"
            ],
            [
             0.2,
             "#de77ae"
            ],
            [
             0.3,
             "#f1b6da"
            ],
            [
             0.4,
             "#fde0ef"
            ],
            [
             0.5,
             "#f7f7f7"
            ],
            [
             0.6,
             "#e6f5d0"
            ],
            [
             0.7,
             "#b8e186"
            ],
            [
             0.8,
             "#7fbc41"
            ],
            [
             0.9,
             "#4d9221"
            ],
            [
             1,
             "#276419"
            ]
           ],
           "sequential": [
            [
             0,
             "#0d0887"
            ],
            [
             0.1111111111111111,
             "#46039f"
            ],
            [
             0.2222222222222222,
             "#7201a8"
            ],
            [
             0.3333333333333333,
             "#9c179e"
            ],
            [
             0.4444444444444444,
             "#bd3786"
            ],
            [
             0.5555555555555556,
             "#d8576b"
            ],
            [
             0.6666666666666666,
             "#ed7953"
            ],
            [
             0.7777777777777778,
             "#fb9f3a"
            ],
            [
             0.8888888888888888,
             "#fdca26"
            ],
            [
             1,
             "#f0f921"
            ]
           ],
           "sequentialminus": [
            [
             0,
             "#0d0887"
            ],
            [
             0.1111111111111111,
             "#46039f"
            ],
            [
             0.2222222222222222,
             "#7201a8"
            ],
            [
             0.3333333333333333,
             "#9c179e"
            ],
            [
             0.4444444444444444,
             "#bd3786"
            ],
            [
             0.5555555555555556,
             "#d8576b"
            ],
            [
             0.6666666666666666,
             "#ed7953"
            ],
            [
             0.7777777777777778,
             "#fb9f3a"
            ],
            [
             0.8888888888888888,
             "#fdca26"
            ],
            [
             1,
             "#f0f921"
            ]
           ]
          },
          "colorway": [
           "#636efa",
           "#EF553B",
           "#00cc96",
           "#ab63fa",
           "#FFA15A",
           "#19d3f3",
           "#FF6692",
           "#B6E880",
           "#FF97FF",
           "#FECB52"
          ],
          "font": {
           "color": "#2a3f5f"
          },
          "geo": {
           "bgcolor": "white",
           "lakecolor": "white",
           "landcolor": "#E5ECF6",
           "showlakes": true,
           "showland": true,
           "subunitcolor": "white"
          },
          "hoverlabel": {
           "align": "left"
          },
          "hovermode": "closest",
          "mapbox": {
           "style": "light"
          },
          "paper_bgcolor": "white",
          "plot_bgcolor": "#E5ECF6",
          "polar": {
           "angularaxis": {
            "gridcolor": "white",
            "linecolor": "white",
            "ticks": ""
           },
           "bgcolor": "#E5ECF6",
           "radialaxis": {
            "gridcolor": "white",
            "linecolor": "white",
            "ticks": ""
           }
          },
          "scene": {
           "xaxis": {
            "backgroundcolor": "#E5ECF6",
            "gridcolor": "white",
            "gridwidth": 2,
            "linecolor": "white",
            "showbackground": true,
            "ticks": "",
            "zerolinecolor": "white"
           },
           "yaxis": {
            "backgroundcolor": "#E5ECF6",
            "gridcolor": "white",
            "gridwidth": 2,
            "linecolor": "white",
            "showbackground": true,
            "ticks": "",
            "zerolinecolor": "white"
           },
           "zaxis": {
            "backgroundcolor": "#E5ECF6",
            "gridcolor": "white",
            "gridwidth": 2,
            "linecolor": "white",
            "showbackground": true,
            "ticks": "",
            "zerolinecolor": "white"
           }
          },
          "shapedefaults": {
           "line": {
            "color": "#2a3f5f"
           }
          },
          "ternary": {
           "aaxis": {
            "gridcolor": "white",
            "linecolor": "white",
            "ticks": ""
           },
           "baxis": {
            "gridcolor": "white",
            "linecolor": "white",
            "ticks": ""
           },
           "bgcolor": "#E5ECF6",
           "caxis": {
            "gridcolor": "white",
            "linecolor": "white",
            "ticks": ""
           }
          },
          "title": {
           "x": 0.05
          },
          "xaxis": {
           "automargin": true,
           "gridcolor": "white",
           "linecolor": "white",
           "ticks": "",
           "title": {
            "standoff": 15
           },
           "zerolinecolor": "white",
           "zerolinewidth": 2
          },
          "yaxis": {
           "automargin": true,
           "gridcolor": "white",
           "linecolor": "white",
           "ticks": "",
           "title": {
            "standoff": 15
           },
           "zerolinecolor": "white",
           "zerolinewidth": 2
          }
         }
        },
        "xaxis": {
         "anchor": "y",
         "domain": [
          0,
          1
         ],
         "title": {
          "text": "0"
         }
        },
        "yaxis": {
         "anchor": "x",
         "domain": [
          0,
          1
         ],
         "title": {
          "text": "1"
         }
        }
       }
      }
     },
     "metadata": {},
     "output_type": "display_data"
    }
   ],
   "source": [
    "features = data.drop(columns=data.select_dtypes(include=['category']).columns).drop(columns=\"Min2\").columns\n",
    "\n",
    "fig = px.scatter(principalComponents, x=0, y=1, color=data['POSITION'])\n",
    "loadings = pca.components_.T * np.sqrt(pca.explained_variance_)\n",
    "\n",
    "\n",
    "for i, feature in enumerate(features):\n",
    "    fig.add_annotation(\n",
    "        ax=0, ay=0,\n",
    "        axref=\"x\", ayref=\"y\",\n",
    "        x= loadings[i, 0],\n",
    "        y= loadings[i, 1],\n",
    "        showarrow=True,\n",
    "        arrowsize=2,\n",
    "        arrowhead=2,\n",
    "        xanchor=\"right\",\n",
    "        yanchor=\"top\"\n",
    "    )\n",
    "    fig.add_annotation(\n",
    "        x=loadings[i, 0],\n",
    "        y=loadings[i, 1],\n",
    "        ax=0, ay=0,\n",
    "        xanchor=\"center\",\n",
    "        yanchor=\"bottom\",\n",
    "        text=feature,\n",
    "        yshift=5,\n",
    "    )\n",
    "fig.show()"
   ]
  },
  {
   "cell_type": "markdown",
   "metadata": {},
   "source": [
    "# 3. Application of MDS.\n"
   ]
  },
  {
   "cell_type": "markdown",
   "metadata": {},
   "source": [
    "## a) Apply metric MDS using Euclidean distance on scaled numerical variables. (2p)"
   ]
  },
  {
   "cell_type": "code",
   "execution_count": 32,
   "metadata": {},
   "outputs": [],
   "source": [
    "from sklearn.manifold import MDS\n"
   ]
  },
  {
   "cell_type": "code",
   "execution_count": 35,
   "metadata": {},
   "outputs": [
    {
     "name": "stdout",
     "output_type": "stream",
     "text": [
      "[[ 593.48681217  102.84779971]\n",
      " [  65.34057476  -17.94811406]\n",
      " [ 318.6297109    57.08815152]\n",
      " [ 819.81970105  -26.54934875]\n",
      " [ 500.09903969   53.6581666 ]\n",
      " [-613.97269182  -26.47689078]\n",
      " [ 888.78267534   42.26166356]\n",
      " [ -64.78498101   13.19620028]\n",
      " [-695.29726566  -19.10427389]\n",
      " [-687.82956247   -4.03529588]\n",
      " [-819.54833187  -54.34963446]\n",
      " [ 524.20250914   55.5233782 ]\n",
      " [-522.60815061  -24.24863842]\n",
      " [ -23.53326574   -8.44044325]\n",
      " [-729.07579031  -25.35375506]\n",
      " [ 527.2627599   -20.17816337]\n",
      " [  48.10782266  -31.94762042]\n",
      " [ 783.0767829    45.73269201]\n",
      " [  37.70007385   -8.44833836]\n",
      " [ 191.27735429   -8.89933623]\n",
      " [-557.83464908  -12.68698933]\n",
      " [ 681.19917371  144.91295908]\n",
      " [-438.11046648  -18.14900193]\n",
      " [ 433.52160897   10.92172342]\n",
      " [  50.47361205  -21.35838241]\n",
      " [-312.50667848  -23.19854922]\n",
      " [-140.54562685  -28.61899686]\n",
      " [-413.57332954   20.46615406]\n",
      " [-121.65252672  -22.38348618]\n",
      " [-455.59468784   -1.10771684]\n",
      " [ 290.96214816    4.99096351]\n",
      " [-301.39329965   -3.58601069]\n",
      " [-624.74435081    1.8100974 ]\n",
      " [-357.73580381  -34.4765063 ]\n",
      " [ 126.67617363   19.20063097]\n",
      " [-423.29971575  -29.39495403]\n",
      " [ 462.88837304   23.3579699 ]\n",
      " [ 175.60987479  -31.38259571]\n",
      " [ 767.55665899  130.12023738]\n",
      " [-393.48441483   41.38041807]\n",
      " [-545.52364558    2.71211359]\n",
      " [ 310.84475598  -13.91764354]\n",
      " [-566.60566266  -30.7661614 ]\n",
      " [  23.4604148    -2.39449218]\n",
      " [-126.70189028   15.7803812 ]\n",
      " [ 292.39066883   -3.4652277 ]\n",
      " [ 901.75707643    2.02848644]\n",
      " [ -19.26513748  -16.34990014]\n",
      " [-163.23559485  -16.16367348]\n",
      " [ 624.13007521   10.48251938]\n",
      " [-520.30308191   -3.85530037]\n",
      " [ 227.79918575  -18.99265608]\n",
      " [   3.32838489  -39.5659596 ]\n",
      " [ 692.76220795   10.49085274]\n",
      " [-926.79618482  -78.42783496]\n",
      " [ -11.98038109  -30.82835577]\n",
      " [  76.79376286   31.09572942]\n",
      " [-227.40670374   -6.80793449]\n",
      " [ 824.95067941  101.0735073 ]\n",
      " [-327.70801788  -18.45370826]\n",
      " [ -92.88817344  -82.82143301]\n",
      " [-461.60910489  -39.92471164]\n",
      " [ 149.80620551  -17.95836045]\n",
      " [ 272.45231038  -18.11640022]]\n"
     ]
    }
   ],
   "source": [
    "# keep numerical variables\n",
    "data_mds = data.drop(columns=data.select_dtypes(include=['category']).columns)\n",
    "\n",
    "mds = MDS(n_components=2)\n",
    "X_trans = mds.fit_transform(data_mds)\n",
    "print(X_trans)"
   ]
  },
  {
   "cell_type": "code",
   "execution_count": 41,
   "metadata": {},
   "outputs": [
    {
     "data": {
      "application/vnd.plotly.v1+json": {
       "config": {
        "plotlyServerURL": "https://plot.ly"
       },
       "data": [
        {
         "hovertemplate": "color=Guard<br>x=%{x}<br>index=%{y}<extra></extra>",
         "legendgroup": "Guard",
         "marker": {
          "color": "#636efa",
          "symbol": "circle"
         },
         "mode": "markers",
         "name": "Guard",
         "orientation": "h",
         "showlegend": true,
         "type": "scatter",
         "x": {
          "bdata": "5d+5WUK2WUBOWGiat/IxwAkhkYxIi0xAj+igHqKMOsB6Hp+DFXo6wOqam7GxGjPAZxtQmiQkEMB/2nnEpj84wDsb7BC9XynAGInjIezXJUC8LyDzvls1wOALeCYsYjbAeVMBsSj2/D+mvZAo/jxBwLkJ/rQbZT3A4nBV6qNbN0AabOvK8WE/wKXzDvzYQ2BAkefEX9XVK8A0jjUOk1kwwGoeyccM9yRAbwHmuKfXDsDDC7sMUfskQM5ohjkmdDLADtDHW5K0VMCyinzzXPZDwIFkVBxX9THA",
          "dtype": "f8"
         },
         "xaxis": "x",
         "y": {
          "bdata": "AAECAwUICQwUFxgcICEjJCUmKS8xMjU7PD0+",
          "dtype": "i1"
         },
         "yaxis": "y"
        },
        {
         "hovertemplate": "color=Forward<br>x=%{x}<br>index=%{y}<extra></extra>",
         "legendgroup": "Forward",
         "marker": {
          "color": "#EF553B",
          "symbol": "circle"
         },
         "mode": "markers",
         "name": "Forward",
         "orientation": "h",
         "showlegend": true,
         "type": "scatter",
         "x": {
          "bdata": "mdiezT7USkDPjwcxfiFFQPS9HF10ZCpA7M70xoHhIMBm4Ryxj1o5wG7FaB2cLTTAsVJsQJfyP8CXh/WajOUgwBtXZsx1zCHA4xf39TYdYkCfcY39JCYywN/AEx/UMjfA7+XHSjW58b/dfjAjv/YTQDE1Xl8msAzADic/nGiyBUAkSEwnI8Q+wLonR03JuAvAOdLepWGbU8CPIqofD9Q+wIxzLbmBGD9ARzMRLlM7G8A29vZXtERZQGWetWfMHTLA",
          "dtype": "f8"
         },
         "xaxis": "x",
         "y": {
          "bdata": "BAYHDQ4PEBITFRYZHR4fKCotNjc4OTo/",
          "dtype": "i1"
         },
         "yaxis": "y"
        },
        {
         "hovertemplate": "color=Center<br>x=%{x}<br>index=%{y}<extra></extra>",
         "legendgroup": "Center",
         "marker": {
          "color": "#00cc96",
          "symbol": "circle"
         },
         "mode": "markers",
         "name": "Center",
         "orientation": "h",
         "showlegend": true,
         "type": "scatter",
         "x": {
          "bdata": "HBRr0sAsS8A7a4cO/sJLQNZ5D9rI3UZAjEQPlHaePMCn+1ffVXc0QFAZII1cMzNAux0NirGwREDaa1eE6ycDwDSXAiCOjy9AJGECGVc6AEDD+EGB5ikwwIxPiLUe/jLAuOM7XXHIQ8A=",
          "dtype": "f8"
         },
         "xaxis": "x",
         "y": {
          "bdata": "CgsRGhsiJyssLjAzNA==",
          "dtype": "i1"
         },
         "yaxis": "y"
        }
       ],
       "layout": {
        "legend": {
         "title": {
          "text": "color"
         },
         "tracegroupgap": 0
        },
        "template": {
         "data": {
          "bar": [
           {
            "error_x": {
             "color": "#2a3f5f"
            },
            "error_y": {
             "color": "#2a3f5f"
            },
            "marker": {
             "line": {
              "color": "#E5ECF6",
              "width": 0.5
             },
             "pattern": {
              "fillmode": "overlay",
              "size": 10,
              "solidity": 0.2
             }
            },
            "type": "bar"
           }
          ],
          "barpolar": [
           {
            "marker": {
             "line": {
              "color": "#E5ECF6",
              "width": 0.5
             },
             "pattern": {
              "fillmode": "overlay",
              "size": 10,
              "solidity": 0.2
             }
            },
            "type": "barpolar"
           }
          ],
          "carpet": [
           {
            "aaxis": {
             "endlinecolor": "#2a3f5f",
             "gridcolor": "white",
             "linecolor": "white",
             "minorgridcolor": "white",
             "startlinecolor": "#2a3f5f"
            },
            "baxis": {
             "endlinecolor": "#2a3f5f",
             "gridcolor": "white",
             "linecolor": "white",
             "minorgridcolor": "white",
             "startlinecolor": "#2a3f5f"
            },
            "type": "carpet"
           }
          ],
          "choropleth": [
           {
            "colorbar": {
             "outlinewidth": 0,
             "ticks": ""
            },
            "type": "choropleth"
           }
          ],
          "contour": [
           {
            "colorbar": {
             "outlinewidth": 0,
             "ticks": ""
            },
            "colorscale": [
             [
              0,
              "#0d0887"
             ],
             [
              0.1111111111111111,
              "#46039f"
             ],
             [
              0.2222222222222222,
              "#7201a8"
             ],
             [
              0.3333333333333333,
              "#9c179e"
             ],
             [
              0.4444444444444444,
              "#bd3786"
             ],
             [
              0.5555555555555556,
              "#d8576b"
             ],
             [
              0.6666666666666666,
              "#ed7953"
             ],
             [
              0.7777777777777778,
              "#fb9f3a"
             ],
             [
              0.8888888888888888,
              "#fdca26"
             ],
             [
              1,
              "#f0f921"
             ]
            ],
            "type": "contour"
           }
          ],
          "contourcarpet": [
           {
            "colorbar": {
             "outlinewidth": 0,
             "ticks": ""
            },
            "type": "contourcarpet"
           }
          ],
          "heatmap": [
           {
            "colorbar": {
             "outlinewidth": 0,
             "ticks": ""
            },
            "colorscale": [
             [
              0,
              "#0d0887"
             ],
             [
              0.1111111111111111,
              "#46039f"
             ],
             [
              0.2222222222222222,
              "#7201a8"
             ],
             [
              0.3333333333333333,
              "#9c179e"
             ],
             [
              0.4444444444444444,
              "#bd3786"
             ],
             [
              0.5555555555555556,
              "#d8576b"
             ],
             [
              0.6666666666666666,
              "#ed7953"
             ],
             [
              0.7777777777777778,
              "#fb9f3a"
             ],
             [
              0.8888888888888888,
              "#fdca26"
             ],
             [
              1,
              "#f0f921"
             ]
            ],
            "type": "heatmap"
           }
          ],
          "histogram": [
           {
            "marker": {
             "pattern": {
              "fillmode": "overlay",
              "size": 10,
              "solidity": 0.2
             }
            },
            "type": "histogram"
           }
          ],
          "histogram2d": [
           {
            "colorbar": {
             "outlinewidth": 0,
             "ticks": ""
            },
            "colorscale": [
             [
              0,
              "#0d0887"
             ],
             [
              0.1111111111111111,
              "#46039f"
             ],
             [
              0.2222222222222222,
              "#7201a8"
             ],
             [
              0.3333333333333333,
              "#9c179e"
             ],
             [
              0.4444444444444444,
              "#bd3786"
             ],
             [
              0.5555555555555556,
              "#d8576b"
             ],
             [
              0.6666666666666666,
              "#ed7953"
             ],
             [
              0.7777777777777778,
              "#fb9f3a"
             ],
             [
              0.8888888888888888,
              "#fdca26"
             ],
             [
              1,
              "#f0f921"
             ]
            ],
            "type": "histogram2d"
           }
          ],
          "histogram2dcontour": [
           {
            "colorbar": {
             "outlinewidth": 0,
             "ticks": ""
            },
            "colorscale": [
             [
              0,
              "#0d0887"
             ],
             [
              0.1111111111111111,
              "#46039f"
             ],
             [
              0.2222222222222222,
              "#7201a8"
             ],
             [
              0.3333333333333333,
              "#9c179e"
             ],
             [
              0.4444444444444444,
              "#bd3786"
             ],
             [
              0.5555555555555556,
              "#d8576b"
             ],
             [
              0.6666666666666666,
              "#ed7953"
             ],
             [
              0.7777777777777778,
              "#fb9f3a"
             ],
             [
              0.8888888888888888,
              "#fdca26"
             ],
             [
              1,
              "#f0f921"
             ]
            ],
            "type": "histogram2dcontour"
           }
          ],
          "mesh3d": [
           {
            "colorbar": {
             "outlinewidth": 0,
             "ticks": ""
            },
            "type": "mesh3d"
           }
          ],
          "parcoords": [
           {
            "line": {
             "colorbar": {
              "outlinewidth": 0,
              "ticks": ""
             }
            },
            "type": "parcoords"
           }
          ],
          "pie": [
           {
            "automargin": true,
            "type": "pie"
           }
          ],
          "scatter": [
           {
            "fillpattern": {
             "fillmode": "overlay",
             "size": 10,
             "solidity": 0.2
            },
            "type": "scatter"
           }
          ],
          "scatter3d": [
           {
            "line": {
             "colorbar": {
              "outlinewidth": 0,
              "ticks": ""
             }
            },
            "marker": {
             "colorbar": {
              "outlinewidth": 0,
              "ticks": ""
             }
            },
            "type": "scatter3d"
           }
          ],
          "scattercarpet": [
           {
            "marker": {
             "colorbar": {
              "outlinewidth": 0,
              "ticks": ""
             }
            },
            "type": "scattercarpet"
           }
          ],
          "scattergeo": [
           {
            "marker": {
             "colorbar": {
              "outlinewidth": 0,
              "ticks": ""
             }
            },
            "type": "scattergeo"
           }
          ],
          "scattergl": [
           {
            "marker": {
             "colorbar": {
              "outlinewidth": 0,
              "ticks": ""
             }
            },
            "type": "scattergl"
           }
          ],
          "scattermap": [
           {
            "marker": {
             "colorbar": {
              "outlinewidth": 0,
              "ticks": ""
             }
            },
            "type": "scattermap"
           }
          ],
          "scattermapbox": [
           {
            "marker": {
             "colorbar": {
              "outlinewidth": 0,
              "ticks": ""
             }
            },
            "type": "scattermapbox"
           }
          ],
          "scatterpolar": [
           {
            "marker": {
             "colorbar": {
              "outlinewidth": 0,
              "ticks": ""
             }
            },
            "type": "scatterpolar"
           }
          ],
          "scatterpolargl": [
           {
            "marker": {
             "colorbar": {
              "outlinewidth": 0,
              "ticks": ""
             }
            },
            "type": "scatterpolargl"
           }
          ],
          "scatterternary": [
           {
            "marker": {
             "colorbar": {
              "outlinewidth": 0,
              "ticks": ""
             }
            },
            "type": "scatterternary"
           }
          ],
          "surface": [
           {
            "colorbar": {
             "outlinewidth": 0,
             "ticks": ""
            },
            "colorscale": [
             [
              0,
              "#0d0887"
             ],
             [
              0.1111111111111111,
              "#46039f"
             ],
             [
              0.2222222222222222,
              "#7201a8"
             ],
             [
              0.3333333333333333,
              "#9c179e"
             ],
             [
              0.4444444444444444,
              "#bd3786"
             ],
             [
              0.5555555555555556,
              "#d8576b"
             ],
             [
              0.6666666666666666,
              "#ed7953"
             ],
             [
              0.7777777777777778,
              "#fb9f3a"
             ],
             [
              0.8888888888888888,
              "#fdca26"
             ],
             [
              1,
              "#f0f921"
             ]
            ],
            "type": "surface"
           }
          ],
          "table": [
           {
            "cells": {
             "fill": {
              "color": "#EBF0F8"
             },
             "line": {
              "color": "white"
             }
            },
            "header": {
             "fill": {
              "color": "#C8D4E3"
             },
             "line": {
              "color": "white"
             }
            },
            "type": "table"
           }
          ]
         },
         "layout": {
          "annotationdefaults": {
           "arrowcolor": "#2a3f5f",
           "arrowhead": 0,
           "arrowwidth": 1
          },
          "autotypenumbers": "strict",
          "coloraxis": {
           "colorbar": {
            "outlinewidth": 0,
            "ticks": ""
           }
          },
          "colorscale": {
           "diverging": [
            [
             0,
             "#8e0152"
            ],
            [
             0.1,
             "#c51b7d"
            ],
            [
             0.2,
             "#de77ae"
            ],
            [
             0.3,
             "#f1b6da"
            ],
            [
             0.4,
             "#fde0ef"
            ],
            [
             0.5,
             "#f7f7f7"
            ],
            [
             0.6,
             "#e6f5d0"
            ],
            [
             0.7,
             "#b8e186"
            ],
            [
             0.8,
             "#7fbc41"
            ],
            [
             0.9,
             "#4d9221"
            ],
            [
             1,
             "#276419"
            ]
           ],
           "sequential": [
            [
             0,
             "#0d0887"
            ],
            [
             0.1111111111111111,
             "#46039f"
            ],
            [
             0.2222222222222222,
             "#7201a8"
            ],
            [
             0.3333333333333333,
             "#9c179e"
            ],
            [
             0.4444444444444444,
             "#bd3786"
            ],
            [
             0.5555555555555556,
             "#d8576b"
            ],
            [
             0.6666666666666666,
             "#ed7953"
            ],
            [
             0.7777777777777778,
             "#fb9f3a"
            ],
            [
             0.8888888888888888,
             "#fdca26"
            ],
            [
             1,
             "#f0f921"
            ]
           ],
           "sequentialminus": [
            [
             0,
             "#0d0887"
            ],
            [
             0.1111111111111111,
             "#46039f"
            ],
            [
             0.2222222222222222,
             "#7201a8"
            ],
            [
             0.3333333333333333,
             "#9c179e"
            ],
            [
             0.4444444444444444,
             "#bd3786"
            ],
            [
             0.5555555555555556,
             "#d8576b"
            ],
            [
             0.6666666666666666,
             "#ed7953"
            ],
            [
             0.7777777777777778,
             "#fb9f3a"
            ],
            [
             0.8888888888888888,
             "#fdca26"
            ],
            [
             1,
             "#f0f921"
            ]
           ]
          },
          "colorway": [
           "#636efa",
           "#EF553B",
           "#00cc96",
           "#ab63fa",
           "#FFA15A",
           "#19d3f3",
           "#FF6692",
           "#B6E880",
           "#FF97FF",
           "#FECB52"
          ],
          "font": {
           "color": "#2a3f5f"
          },
          "geo": {
           "bgcolor": "white",
           "lakecolor": "white",
           "landcolor": "#E5ECF6",
           "showlakes": true,
           "showland": true,
           "subunitcolor": "white"
          },
          "hoverlabel": {
           "align": "left"
          },
          "hovermode": "closest",
          "mapbox": {
           "style": "light"
          },
          "paper_bgcolor": "white",
          "plot_bgcolor": "#E5ECF6",
          "polar": {
           "angularaxis": {
            "gridcolor": "white",
            "linecolor": "white",
            "ticks": ""
           },
           "bgcolor": "#E5ECF6",
           "radialaxis": {
            "gridcolor": "white",
            "linecolor": "white",
            "ticks": ""
           }
          },
          "scene": {
           "xaxis": {
            "backgroundcolor": "#E5ECF6",
            "gridcolor": "white",
            "gridwidth": 2,
            "linecolor": "white",
            "showbackground": true,
            "ticks": "",
            "zerolinecolor": "white"
           },
           "yaxis": {
            "backgroundcolor": "#E5ECF6",
            "gridcolor": "white",
            "gridwidth": 2,
            "linecolor": "white",
            "showbackground": true,
            "ticks": "",
            "zerolinecolor": "white"
           },
           "zaxis": {
            "backgroundcolor": "#E5ECF6",
            "gridcolor": "white",
            "gridwidth": 2,
            "linecolor": "white",
            "showbackground": true,
            "ticks": "",
            "zerolinecolor": "white"
           }
          },
          "shapedefaults": {
           "line": {
            "color": "#2a3f5f"
           }
          },
          "ternary": {
           "aaxis": {
            "gridcolor": "white",
            "linecolor": "white",
            "ticks": ""
           },
           "baxis": {
            "gridcolor": "white",
            "linecolor": "white",
            "ticks": ""
           },
           "bgcolor": "#E5ECF6",
           "caxis": {
            "gridcolor": "white",
            "linecolor": "white",
            "ticks": ""
           }
          },
          "title": {
           "x": 0.05
          },
          "xaxis": {
           "automargin": true,
           "gridcolor": "white",
           "linecolor": "white",
           "ticks": "",
           "title": {
            "standoff": 15
           },
           "zerolinecolor": "white",
           "zerolinewidth": 2
          },
          "yaxis": {
           "automargin": true,
           "gridcolor": "white",
           "linecolor": "white",
           "ticks": "",
           "title": {
            "standoff": 15
           },
           "zerolinecolor": "white",
           "zerolinewidth": 2
          }
         }
        },
        "title": {
         "text": "MDS"
        },
        "xaxis": {
         "anchor": "y",
         "domain": [
          0,
          1
         ],
         "title": {
          "text": "x"
         }
        },
        "yaxis": {
         "anchor": "x",
         "domain": [
          0,
          1
         ],
         "title": {
          "text": "index"
         }
        }
       }
      }
     },
     "metadata": {},
     "output_type": "display_data"
    }
   ],
   "source": [
    "plot = px.scatter(X_trans[:,0], X_trans[:,1],color = data[\"POSITION\"],title = \"MDS\")\n",
    "plot.show()"
   ]
  },
  {
   "cell_type": "code",
   "execution_count": 43,
   "metadata": {},
   "outputs": [],
   "source": [
    "from sklearn.metrics.pairwise import manhattan_distances"
   ]
  },
  {
   "cell_type": "code",
   "execution_count": 44,
   "metadata": {},
   "outputs": [
    {
     "data": {
      "application/vnd.plotly.v1+json": {
       "config": {
        "plotlyServerURL": "https://plot.ly"
       },
       "data": [
        {
         "hovertemplate": "color=Guard<br>x=%{x}<br>index=%{y}<extra></extra>",
         "legendgroup": "Guard",
         "marker": {
          "color": "#636efa",
          "symbol": "circle"
         },
         "mode": "markers",
         "name": "Guard",
         "orientation": "h",
         "showlegend": true,
         "type": "scatter",
         "x": {
          "bdata": "uRyfaaGoeECCKHvTtpFSQN0TcRos1XhA6/53THz0i0DedID8yEF/wAI8I7tAKYLApA9B8lu4gsC8uBZ3/gSAwPwqaWfnFYHAJ6h6dLNXe0A+dLv/dPJUQLXq/iPBdmHAvoCDAi/XgMA8tuPkrlRzwFkZ5iZbHXzAS5SB6pYjekC0v84MhIlpQINqWBE88YZAbAE7ovq6ckD7XOWJb5xEwAwUQ9yuXYJAs/vYZnGwfMB9tR5b5ZqFQKnkjo8sbXTAHMbyvQiIacAGtuSgXKt/wPqLZSWXr2BA",
          "dtype": "f8"
         },
         "xaxis": "x",
         "y": {
          "bdata": "AAECAwUICQwUFxgcICEjJCUmKS8xMjU7PD0+",
          "dtype": "i1"
         },
         "yaxis": "y"
        },
        {
         "hovertemplate": "color=Forward<br>x=%{x}<br>index=%{y}<extra></extra>",
         "legendgroup": "Forward",
         "marker": {
          "color": "#EF553B",
          "symbol": "circle"
         },
         "mode": "markers",
         "name": "Forward",
         "orientation": "h",
         "showlegend": true,
         "type": "scatter",
         "x": {
          "bdata": "T18vDlEZd0A+Y6VtjCqQQK7KK9DatxJAf7kjWqOSQcAkNMik4VuCwFDUmqIzx4FAmYymhJvlS0DJjA75/X5JQMVd8jtH9mdAFF25xwbVf0CAbjgtykF7wFOh2y0zrnTAQR56VwNLfsCcMpe+W+xtQMA8mxNsYHbA32gwzTNMf8A/Zkk3ahWCwKuWOzb/fHBAcGKXCMN4iMD4Ig83mbMewE5k3z1ipGNAactLpu5Ha8ATjQqZlSqNQH2XzSsisW9A",
          "dtype": "f8"
         },
         "xaxis": "x",
         "y": {
          "bdata": "BAYHDQ4PEBITFRYZHR4fKCotNjc4OTo/",
          "dtype": "i1"
         },
         "yaxis": "y"
        },
        {
         "hovertemplate": "color=Center<br>x=%{x}<br>index=%{y}<extra></extra>",
         "legendgroup": "Center",
         "marker": {
          "color": "#00cc96",
          "symbol": "circle"
         },
         "mode": "markers",
         "name": "Center",
         "orientation": "h",
         "showlegend": true,
         "type": "scatter",
         "x": {
          "bdata": "FJVP8Dthg8B0ekaqgSp5QGgVi7vmo4lAvJvQ/yzOaMAJyFYT1oV/wIvKhF/OUUtAXeyr1WRlgMAz6S0UIIEyQC562/48J2rAZbnIk8WejEAXHDwbvvltwNnKkHfyOmdApUImXupeSMA=",
          "dtype": "f8"
         },
         "xaxis": "x",
         "y": {
          "bdata": "CgsRGhsiJyssLjAzNA==",
          "dtype": "i1"
         },
         "yaxis": "y"
        }
       ],
       "layout": {
        "legend": {
         "title": {
          "text": "color"
         },
         "tracegroupgap": 0
        },
        "template": {
         "data": {
          "bar": [
           {
            "error_x": {
             "color": "#2a3f5f"
            },
            "error_y": {
             "color": "#2a3f5f"
            },
            "marker": {
             "line": {
              "color": "#E5ECF6",
              "width": 0.5
             },
             "pattern": {
              "fillmode": "overlay",
              "size": 10,
              "solidity": 0.2
             }
            },
            "type": "bar"
           }
          ],
          "barpolar": [
           {
            "marker": {
             "line": {
              "color": "#E5ECF6",
              "width": 0.5
             },
             "pattern": {
              "fillmode": "overlay",
              "size": 10,
              "solidity": 0.2
             }
            },
            "type": "barpolar"
           }
          ],
          "carpet": [
           {
            "aaxis": {
             "endlinecolor": "#2a3f5f",
             "gridcolor": "white",
             "linecolor": "white",
             "minorgridcolor": "white",
             "startlinecolor": "#2a3f5f"
            },
            "baxis": {
             "endlinecolor": "#2a3f5f",
             "gridcolor": "white",
             "linecolor": "white",
             "minorgridcolor": "white",
             "startlinecolor": "#2a3f5f"
            },
            "type": "carpet"
           }
          ],
          "choropleth": [
           {
            "colorbar": {
             "outlinewidth": 0,
             "ticks": ""
            },
            "type": "choropleth"
           }
          ],
          "contour": [
           {
            "colorbar": {
             "outlinewidth": 0,
             "ticks": ""
            },
            "colorscale": [
             [
              0,
              "#0d0887"
             ],
             [
              0.1111111111111111,
              "#46039f"
             ],
             [
              0.2222222222222222,
              "#7201a8"
             ],
             [
              0.3333333333333333,
              "#9c179e"
             ],
             [
              0.4444444444444444,
              "#bd3786"
             ],
             [
              0.5555555555555556,
              "#d8576b"
             ],
             [
              0.6666666666666666,
              "#ed7953"
             ],
             [
              0.7777777777777778,
              "#fb9f3a"
             ],
             [
              0.8888888888888888,
              "#fdca26"
             ],
             [
              1,
              "#f0f921"
             ]
            ],
            "type": "contour"
           }
          ],
          "contourcarpet": [
           {
            "colorbar": {
             "outlinewidth": 0,
             "ticks": ""
            },
            "type": "contourcarpet"
           }
          ],
          "heatmap": [
           {
            "colorbar": {
             "outlinewidth": 0,
             "ticks": ""
            },
            "colorscale": [
             [
              0,
              "#0d0887"
             ],
             [
              0.1111111111111111,
              "#46039f"
             ],
             [
              0.2222222222222222,
              "#7201a8"
             ],
             [
              0.3333333333333333,
              "#9c179e"
             ],
             [
              0.4444444444444444,
              "#bd3786"
             ],
             [
              0.5555555555555556,
              "#d8576b"
             ],
             [
              0.6666666666666666,
              "#ed7953"
             ],
             [
              0.7777777777777778,
              "#fb9f3a"
             ],
             [
              0.8888888888888888,
              "#fdca26"
             ],
             [
              1,
              "#f0f921"
             ]
            ],
            "type": "heatmap"
           }
          ],
          "histogram": [
           {
            "marker": {
             "pattern": {
              "fillmode": "overlay",
              "size": 10,
              "solidity": 0.2
             }
            },
            "type": "histogram"
           }
          ],
          "histogram2d": [
           {
            "colorbar": {
             "outlinewidth": 0,
             "ticks": ""
            },
            "colorscale": [
             [
              0,
              "#0d0887"
             ],
             [
              0.1111111111111111,
              "#46039f"
             ],
             [
              0.2222222222222222,
              "#7201a8"
             ],
             [
              0.3333333333333333,
              "#9c179e"
             ],
             [
              0.4444444444444444,
              "#bd3786"
             ],
             [
              0.5555555555555556,
              "#d8576b"
             ],
             [
              0.6666666666666666,
              "#ed7953"
             ],
             [
              0.7777777777777778,
              "#fb9f3a"
             ],
             [
              0.8888888888888888,
              "#fdca26"
             ],
             [
              1,
              "#f0f921"
             ]
            ],
            "type": "histogram2d"
           }
          ],
          "histogram2dcontour": [
           {
            "colorbar": {
             "outlinewidth": 0,
             "ticks": ""
            },
            "colorscale": [
             [
              0,
              "#0d0887"
             ],
             [
              0.1111111111111111,
              "#46039f"
             ],
             [
              0.2222222222222222,
              "#7201a8"
             ],
             [
              0.3333333333333333,
              "#9c179e"
             ],
             [
              0.4444444444444444,
              "#bd3786"
             ],
             [
              0.5555555555555556,
              "#d8576b"
             ],
             [
              0.6666666666666666,
              "#ed7953"
             ],
             [
              0.7777777777777778,
              "#fb9f3a"
             ],
             [
              0.8888888888888888,
              "#fdca26"
             ],
             [
              1,
              "#f0f921"
             ]
            ],
            "type": "histogram2dcontour"
           }
          ],
          "mesh3d": [
           {
            "colorbar": {
             "outlinewidth": 0,
             "ticks": ""
            },
            "type": "mesh3d"
           }
          ],
          "parcoords": [
           {
            "line": {
             "colorbar": {
              "outlinewidth": 0,
              "ticks": ""
             }
            },
            "type": "parcoords"
           }
          ],
          "pie": [
           {
            "automargin": true,
            "type": "pie"
           }
          ],
          "scatter": [
           {
            "fillpattern": {
             "fillmode": "overlay",
             "size": 10,
             "solidity": 0.2
            },
            "type": "scatter"
           }
          ],
          "scatter3d": [
           {
            "line": {
             "colorbar": {
              "outlinewidth": 0,
              "ticks": ""
             }
            },
            "marker": {
             "colorbar": {
              "outlinewidth": 0,
              "ticks": ""
             }
            },
            "type": "scatter3d"
           }
          ],
          "scattercarpet": [
           {
            "marker": {
             "colorbar": {
              "outlinewidth": 0,
              "ticks": ""
             }
            },
            "type": "scattercarpet"
           }
          ],
          "scattergeo": [
           {
            "marker": {
             "colorbar": {
              "outlinewidth": 0,
              "ticks": ""
             }
            },
            "type": "scattergeo"
           }
          ],
          "scattergl": [
           {
            "marker": {
             "colorbar": {
              "outlinewidth": 0,
              "ticks": ""
             }
            },
            "type": "scattergl"
           }
          ],
          "scattermap": [
           {
            "marker": {
             "colorbar": {
              "outlinewidth": 0,
              "ticks": ""
             }
            },
            "type": "scattermap"
           }
          ],
          "scattermapbox": [
           {
            "marker": {
             "colorbar": {
              "outlinewidth": 0,
              "ticks": ""
             }
            },
            "type": "scattermapbox"
           }
          ],
          "scatterpolar": [
           {
            "marker": {
             "colorbar": {
              "outlinewidth": 0,
              "ticks": ""
             }
            },
            "type": "scatterpolar"
           }
          ],
          "scatterpolargl": [
           {
            "marker": {
             "colorbar": {
              "outlinewidth": 0,
              "ticks": ""
             }
            },
            "type": "scatterpolargl"
           }
          ],
          "scatterternary": [
           {
            "marker": {
             "colorbar": {
              "outlinewidth": 0,
              "ticks": ""
             }
            },
            "type": "scatterternary"
           }
          ],
          "surface": [
           {
            "colorbar": {
             "outlinewidth": 0,
             "ticks": ""
            },
            "colorscale": [
             [
              0,
              "#0d0887"
             ],
             [
              0.1111111111111111,
              "#46039f"
             ],
             [
              0.2222222222222222,
              "#7201a8"
             ],
             [
              0.3333333333333333,
              "#9c179e"
             ],
             [
              0.4444444444444444,
              "#bd3786"
             ],
             [
              0.5555555555555556,
              "#d8576b"
             ],
             [
              0.6666666666666666,
              "#ed7953"
             ],
             [
              0.7777777777777778,
              "#fb9f3a"
             ],
             [
              0.8888888888888888,
              "#fdca26"
             ],
             [
              1,
              "#f0f921"
             ]
            ],
            "type": "surface"
           }
          ],
          "table": [
           {
            "cells": {
             "fill": {
              "color": "#EBF0F8"
             },
             "line": {
              "color": "white"
             }
            },
            "header": {
             "fill": {
              "color": "#C8D4E3"
             },
             "line": {
              "color": "white"
             }
            },
            "type": "table"
           }
          ]
         },
         "layout": {
          "annotationdefaults": {
           "arrowcolor": "#2a3f5f",
           "arrowhead": 0,
           "arrowwidth": 1
          },
          "autotypenumbers": "strict",
          "coloraxis": {
           "colorbar": {
            "outlinewidth": 0,
            "ticks": ""
           }
          },
          "colorscale": {
           "diverging": [
            [
             0,
             "#8e0152"
            ],
            [
             0.1,
             "#c51b7d"
            ],
            [
             0.2,
             "#de77ae"
            ],
            [
             0.3,
             "#f1b6da"
            ],
            [
             0.4,
             "#fde0ef"
            ],
            [
             0.5,
             "#f7f7f7"
            ],
            [
             0.6,
             "#e6f5d0"
            ],
            [
             0.7,
             "#b8e186"
            ],
            [
             0.8,
             "#7fbc41"
            ],
            [
             0.9,
             "#4d9221"
            ],
            [
             1,
             "#276419"
            ]
           ],
           "sequential": [
            [
             0,
             "#0d0887"
            ],
            [
             0.1111111111111111,
             "#46039f"
            ],
            [
             0.2222222222222222,
             "#7201a8"
            ],
            [
             0.3333333333333333,
             "#9c179e"
            ],
            [
             0.4444444444444444,
             "#bd3786"
            ],
            [
             0.5555555555555556,
             "#d8576b"
            ],
            [
             0.6666666666666666,
             "#ed7953"
            ],
            [
             0.7777777777777778,
             "#fb9f3a"
            ],
            [
             0.8888888888888888,
             "#fdca26"
            ],
            [
             1,
             "#f0f921"
            ]
           ],
           "sequentialminus": [
            [
             0,
             "#0d0887"
            ],
            [
             0.1111111111111111,
             "#46039f"
            ],
            [
             0.2222222222222222,
             "#7201a8"
            ],
            [
             0.3333333333333333,
             "#9c179e"
            ],
            [
             0.4444444444444444,
             "#bd3786"
            ],
            [
             0.5555555555555556,
             "#d8576b"
            ],
            [
             0.6666666666666666,
             "#ed7953"
            ],
            [
             0.7777777777777778,
             "#fb9f3a"
            ],
            [
             0.8888888888888888,
             "#fdca26"
            ],
            [
             1,
             "#f0f921"
            ]
           ]
          },
          "colorway": [
           "#636efa",
           "#EF553B",
           "#00cc96",
           "#ab63fa",
           "#FFA15A",
           "#19d3f3",
           "#FF6692",
           "#B6E880",
           "#FF97FF",
           "#FECB52"
          ],
          "font": {
           "color": "#2a3f5f"
          },
          "geo": {
           "bgcolor": "white",
           "lakecolor": "white",
           "landcolor": "#E5ECF6",
           "showlakes": true,
           "showland": true,
           "subunitcolor": "white"
          },
          "hoverlabel": {
           "align": "left"
          },
          "hovermode": "closest",
          "mapbox": {
           "style": "light"
          },
          "paper_bgcolor": "white",
          "plot_bgcolor": "#E5ECF6",
          "polar": {
           "angularaxis": {
            "gridcolor": "white",
            "linecolor": "white",
            "ticks": ""
           },
           "bgcolor": "#E5ECF6",
           "radialaxis": {
            "gridcolor": "white",
            "linecolor": "white",
            "ticks": ""
           }
          },
          "scene": {
           "xaxis": {
            "backgroundcolor": "#E5ECF6",
            "gridcolor": "white",
            "gridwidth": 2,
            "linecolor": "white",
            "showbackground": true,
            "ticks": "",
            "zerolinecolor": "white"
           },
           "yaxis": {
            "backgroundcolor": "#E5ECF6",
            "gridcolor": "white",
            "gridwidth": 2,
            "linecolor": "white",
            "showbackground": true,
            "ticks": "",
            "zerolinecolor": "white"
           },
           "zaxis": {
            "backgroundcolor": "#E5ECF6",
            "gridcolor": "white",
            "gridwidth": 2,
            "linecolor": "white",
            "showbackground": true,
            "ticks": "",
            "zerolinecolor": "white"
           }
          },
          "shapedefaults": {
           "line": {
            "color": "#2a3f5f"
           }
          },
          "ternary": {
           "aaxis": {
            "gridcolor": "white",
            "linecolor": "white",
            "ticks": ""
           },
           "baxis": {
            "gridcolor": "white",
            "linecolor": "white",
            "ticks": ""
           },
           "bgcolor": "#E5ECF6",
           "caxis": {
            "gridcolor": "white",
            "linecolor": "white",
            "ticks": ""
           }
          },
          "title": {
           "x": 0.05
          },
          "xaxis": {
           "automargin": true,
           "gridcolor": "white",
           "linecolor": "white",
           "ticks": "",
           "title": {
            "standoff": 15
           },
           "zerolinecolor": "white",
           "zerolinewidth": 2
          },
          "yaxis": {
           "automargin": true,
           "gridcolor": "white",
           "linecolor": "white",
           "ticks": "",
           "title": {
            "standoff": 15
           },
           "zerolinecolor": "white",
           "zerolinewidth": 2
          }
         }
        },
        "title": {
         "text": "MDS Manhattan"
        },
        "xaxis": {
         "anchor": "y",
         "domain": [
          0,
          1
         ],
         "title": {
          "text": "x"
         }
        },
        "yaxis": {
         "anchor": "x",
         "domain": [
          0,
          1
         ],
         "title": {
          "text": "index"
         }
        }
       }
      }
     },
     "metadata": {},
     "output_type": "display_data"
    }
   ],
   "source": [
    "\n",
    "dist_manhattan = manhattan_distances(data_mds)\n",
    "mds = MDS(n_components=2, dissimilarity = 'precomputed')\n",
    "\n",
    "x_trans2 = mds.fit_transform(dist_manhattan)\n",
    "plot = px.scatter(x_trans2[:,0], x_trans2[:,1],color = data[\"POSITION\"],title = \"MDS Manhattan\")\n",
    "plot.show()\n"
   ]
  }
 ],
 "metadata": {
  "kernelspec": {
   "display_name": "Python 3",
   "language": "python",
   "name": "python3"
  },
  "language_info": {
   "codemirror_mode": {
    "name": "ipython",
    "version": 3
   },
   "file_extension": ".py",
   "mimetype": "text/x-python",
   "name": "python",
   "nbconvert_exporter": "python",
   "pygments_lexer": "ipython3",
   "version": "3.12.3"
  }
 },
 "nbformat": 4,
 "nbformat_minor": 2
}
